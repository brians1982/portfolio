{
 "cells": [
  {
   "cell_type": "code",
   "execution_count": 1,
   "id": "ed4a5281",
   "metadata": {},
   "outputs": [],
   "source": [
    "import numpy as np"
   ]
  },
  {
   "cell_type": "code",
   "execution_count": 2,
   "id": "d0fad664",
   "metadata": {},
   "outputs": [],
   "source": [
    "#Make repeatable\n",
    "np.random.seed(seed=41)"
   ]
  },
  {
   "cell_type": "code",
   "execution_count": 3,
   "id": "388b9b61",
   "metadata": {},
   "outputs": [],
   "source": [
    "#Storage location for lines\n",
    "lines=[]\n",
    "\n",
    "#CSV header\n",
    "header='jobid,L1,L2,L3,L4,H1,R1,R2\\n'\n",
    "lines.append(header)"
   ]
  },
  {
   "cell_type": "code",
   "execution_count": 4,
   "id": "d0217e7d",
   "metadata": {},
   "outputs": [],
   "source": [
    "#Generate random geometries\n",
    "njobs=2000\n",
    "for i in range(njobs+1):\n",
    "    \n",
    "    if i<10:\n",
    "        jobid = 'model000'+str(i)\n",
    "    elif i >=10 and i < 100:\n",
    "        jobid = 'model00'+str(i)\n",
    "    elif i >=100 and i < 1000:\n",
    "        jobid = 'model0'+str(i)\n",
    "    else:\n",
    "        jobid = 'model'+str(i)\n",
    "    \n",
    "    #Generate variables within bounds\n",
    "    #L1 [3.5, 6.5]\n",
    "    L1 = 3.5 + 3 * np.random.random()\n",
    "    \n",
    "    #L2 [5 8]\n",
    "    L2 = 5 + 3 * np.random.random()\n",
    "    \n",
    "    #L3 [.3, .7] * L1\n",
    "    L3 = (0.3 + 0.4 * np.random.random()) * L1\n",
    "    \n",
    "    #R1 Fillet\n",
    "    R1 = L1 - L3\n",
    "    \n",
    "    #L4 [0.3, 0.6] * L2\n",
    "    L4 = (0.3 + 0.3 * np.random.random()) * L2\n",
    "    \n",
    "    #R2 Hole [.3 .6] * R1\n",
    "    R2 = (0.3 + 0.3 * np.random.random()) * R1 * 0.5\n",
    "    #R2 can't get too large, or it will intersect the boundary\n",
    "    if R2 > 0.5 * 0.9 * L3:\n",
    "        R2 = 0.5 * 0.9 * L3\n",
    "        \n",
    "    #Ligament [0.8 1.2] * R2\n",
    "    #Variation on ligament, but specify y-dim of hole center\n",
    "    ligament = (0.8 + 0.4 * np.random.random()) * R2\n",
    "    \n",
    "    span = ligament + R1 + R2\n",
    "    \n",
    "    #span = np.sqrt(dx**2 + dy**2)\n",
    "    #span**2 - dx** =  dy**2\n",
    "    \n",
    "    dx = R1\n",
    "    dy = np.sqrt(span**2 - dx**2)\n",
    "    H1 = L1-dy\n",
    "    \n",
    "        \n",
    "    if L4 + R1 + 0.5 >= L2:\n",
    "        L2 = L4 + R1 + 0.5\n",
    "    \n",
    "    #Convert to formatted string\n",
    "    line = jobid + ',' + f\"{L1:.4f}\" + ',' + f\"{L2:.4f}\" \n",
    "    line = line + ',' + f\"{L3:.4f}\" + ',' + f\"{L4:.4f}\" + ','\n",
    "    line = line + f\"{H1:.4f}\" + ',' + f\"{R1:.4f}\" + ',' + f\"{R2:.4f}\" + '\\n'\n",
    "    \n",
    "    #Append to repository\n",
    "    lines.append(line)"
   ]
  },
  {
   "cell_type": "code",
   "execution_count": 5,
   "id": "c7b075ca",
   "metadata": {},
   "outputs": [],
   "source": [
    "#Create output file and write data\n",
    "file='model_definitions.csv'\n",
    "\n",
    "src=open(file, 'w')\n",
    "src.writelines(lines)\n",
    "src.close()"
   ]
  },
  {
   "cell_type": "code",
   "execution_count": null,
   "id": "28ebd4a8",
   "metadata": {},
   "outputs": [],
   "source": []
  },
  {
   "cell_type": "code",
   "execution_count": null,
   "id": "93ae0bad",
   "metadata": {},
   "outputs": [],
   "source": []
  },
  {
   "cell_type": "code",
   "execution_count": null,
   "id": "b4e46cc8",
   "metadata": {},
   "outputs": [],
   "source": []
  }
 ],
 "metadata": {
  "kernelspec": {
   "display_name": "Python 3 (ipykernel)",
   "language": "python",
   "name": "python3"
  },
  "language_info": {
   "codemirror_mode": {
    "name": "ipython",
    "version": 3
   },
   "file_extension": ".py",
   "mimetype": "text/x-python",
   "name": "python",
   "nbconvert_exporter": "python",
   "pygments_lexer": "ipython3",
   "version": "3.9.0"
  }
 },
 "nbformat": 4,
 "nbformat_minor": 5
}

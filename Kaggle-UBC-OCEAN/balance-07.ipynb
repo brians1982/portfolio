{
 "cells": [
  {
   "cell_type": "markdown",
   "id": "970c90c5",
   "metadata": {},
   "source": [
    "## Balance Datasets ##\n",
    "\n",
    "This notebook takes the tiles from Image Preparation and augments the dataset by masking random portions of the images."
   ]
  },
  {
   "cell_type": "code",
   "execution_count": 1,
   "id": "9a325cc9",
   "metadata": {
    "execution": {
     "iopub.execute_input": "2023-12-29T13:24:35.211496Z",
     "iopub.status.busy": "2023-12-29T13:24:35.210690Z",
     "iopub.status.idle": "2023-12-29T13:24:35.222725Z",
     "shell.execute_reply": "2023-12-29T13:24:35.221662Z"
    },
    "papermill": {
     "duration": 0.023377,
     "end_time": "2023-12-29T13:24:35.225706",
     "exception": false,
     "start_time": "2023-12-29T13:24:35.202329",
     "status": "completed"
    },
    "tags": []
   },
   "outputs": [],
   "source": [
    "import os\n",
    "import shutil\n",
    "from PIL import Image\n",
    "import matplotlib.pyplot as plt\n",
    "\n",
    "import random\n",
    "import numpy as np\n"
   ]
  },
  {
   "cell_type": "code",
   "execution_count": 3,
   "id": "712cbd12",
   "metadata": {
    "execution": {
     "iopub.execute_input": "2023-12-29T13:24:35.272374Z",
     "iopub.status.busy": "2023-12-29T13:24:35.271544Z",
     "iopub.status.idle": "2023-12-29T13:24:35.279230Z",
     "shell.execute_reply": "2023-12-29T13:24:35.278335Z"
    },
    "papermill": {
     "duration": 0.018127,
     "end_time": "2023-12-29T13:24:35.281859",
     "exception": false,
     "start_time": "2023-12-29T13:24:35.263732",
     "status": "completed"
    },
    "tags": []
   },
   "outputs": [],
   "source": [
    "#Create directory structure\n",
    "dirs=os.listdir('/kaggle/working/')\n",
    "\n",
    "cats=['ImagesTrain','ImagesVal']\n",
    "labels=['CC', 'EC', 'HGSC', 'LGSC', 'MC']\n",
    "\n",
    "if 'ImagesTrain' in dirs:\n",
    "    shutil.rmtree('/kaggle/working/ImagesTrain')\n",
    "    \n",
    "if 'ImagesVal' in dirs:\n",
    "    shutil.rmtree('/kaggle/working/ImagesVal')\n",
    "    \n",
    "for label in labels:\n",
    "    path='ImagesTrain/'+label\n",
    "    os.makedirs(path, exist_ok=True)\n",
    "\n",
    "    path='ImagesVal/'+label\n",
    "    os.makedirs(path, exist_ok=True)"
   ]
  },
  {
   "cell_type": "code",
   "execution_count": 4,
   "id": "c4af01c9",
   "metadata": {
    "execution": {
     "iopub.execute_input": "2023-12-29T13:24:35.295920Z",
     "iopub.status.busy": "2023-12-29T13:24:35.295118Z",
     "iopub.status.idle": "2023-12-29T13:28:24.085184Z",
     "shell.execute_reply": "2023-12-29T13:28:24.082976Z"
    },
    "papermill": {
     "duration": 228.801503,
     "end_time": "2023-12-29T13:28:24.089240",
     "exception": false,
     "start_time": "2023-12-29T13:24:35.287737",
     "status": "completed"
    },
    "tags": []
   },
   "outputs": [
    {
     "name": "stdout",
     "output_type": "stream",
     "text": [
      "ImagesTrain CC\n",
      "ImagesTrain EC\n",
      "ImagesTrain HGSC\n",
      "ImagesTrain LGSC\n",
      "ImagesTrain MC\n",
      "ImagesVal CC\n",
      "ImagesVal EC\n",
      "ImagesVal HGSC\n",
      "ImagesVal LGSC\n",
      "ImagesVal MC\n"
     ]
    }
   ],
   "source": [
    "#copy folders to working dir.\n",
    "for cat in cats:\n",
    "    for label in labels:\n",
    "        print(cat, label)\n",
    "        srcpath='/kaggle/input/imageprep-07/'+cat+'/'+label+'/'\n",
    "        dstpath='/kaggle/working/'+cat+'/'+label+'/'\n",
    "        \n",
    "        files=os.listdir(srcpath)\n",
    "        for file in files:\n",
    "            shutil.copy2(srcpath+file, dstpath+file)"
   ]
  },
  {
   "cell_type": "code",
   "execution_count": 5,
   "id": "a9a9e5f2",
   "metadata": {
    "execution": {
     "iopub.execute_input": "2023-12-29T13:28:24.106913Z",
     "iopub.status.busy": "2023-12-29T13:28:24.106328Z",
     "iopub.status.idle": "2023-12-29T13:28:24.113253Z",
     "shell.execute_reply": "2023-12-29T13:28:24.111962Z"
    },
    "papermill": {
     "duration": 0.01948,
     "end_time": "2023-12-29T13:28:24.115817",
     "exception": false,
     "start_time": "2023-12-29T13:28:24.096337",
     "status": "completed"
    },
    "tags": []
   },
   "outputs": [],
   "source": [
    "#Only if zipped\n",
    "# !unzip -q '/kaggle/input/imageprep-07/_output_.zip'"
   ]
  },
  {
   "cell_type": "markdown",
   "id": "ad0f79fe",
   "metadata": {},
   "source": [
    "## Augmentation ##\n",
    "Images in the base dataset will be copied and modified until the target dataset sizes are met and the classes are balanced.  A few examples of augmentation include rotation, flipping images, and masking of vertical or horizontal regions of the image.  The size and location of each mask is chosen randomly.\n",
    "\n",
    "If a class has too many images, they are pruned randomly, until the target size is met.\n",
    "\n",
    "Some examples are below.\n",
    "\n",
    "| Horzontal Mask | Vertical Mask |\n",
    "|      :----:    |      :----:   |\n",
    "| ![](CC_000001_a-a-01.png)  |  ![](CC_000001_a-b-02.png) |"
   ]
  },
  {
   "cell_type": "code",
   "execution_count": 6,
   "id": "58e524bf",
   "metadata": {
    "execution": {
     "iopub.execute_input": "2023-12-29T13:28:24.132031Z",
     "iopub.status.busy": "2023-12-29T13:28:24.131548Z",
     "iopub.status.idle": "2023-12-29T13:28:24.161830Z",
     "shell.execute_reply": "2023-12-29T13:28:24.160780Z"
    },
    "papermill": {
     "duration": 0.042072,
     "end_time": "2023-12-29T13:28:24.164824",
     "exception": false,
     "start_time": "2023-12-29T13:28:24.122752",
     "status": "completed"
    },
    "tags": []
   },
   "outputs": [],
   "source": [
    "#Function to mask random vertical or horizontal bands in the images, based on the Operation\n",
    "def augment(path, num, files, oper):\n",
    "\n",
    "    for idx, file in enumerate(files):\n",
    "        if idx==num:\n",
    "            break\n",
    "\n",
    "        img=Image.open(path+file)\n",
    "        \n",
    "        #masking - 25-50% somewhere in the middle .375-.625\n",
    "        #in pixels = 64-128, centered 96-160\n",
    "        mwidth=np.random.randint(64, 129)\n",
    "        mheight=np.random.randint(64, 129)\n",
    "        mwidctr=np.random.randint(96, 161)\n",
    "        mhtctr=np.random.randint(96, 161)\n",
    "\n",
    "        if oper=='a':\n",
    "            if idx%500==0: print('Choice, ', oper)\n",
    "            img=img.rotate(90, expand=False)\n",
    "            imgarray=np.array(img)\n",
    "            #Row\n",
    "            imgarray[(mhtctr-mheight//2):(mhtctr+mheight//2), :, :] = 0\n",
    "            img=Image.fromarray(np.uint8(imgarray))\n",
    "            \n",
    "            name=file.split('.')[0] +'-'+ str(oper)+'-01.png'\n",
    "            \n",
    "        if oper=='b':\n",
    "            if idx%500==0: print('Choice, ', oper)\n",
    "            img=img.rotate(-90, expand=False)\n",
    "            imgarray=np.array(img)\n",
    "            #Column\n",
    "            imgarray[:, (mwidctr-mwidth//2):(mwidctr+mwidth//2), :] = 0\n",
    "            img=Image.fromarray(np.uint8(imgarray))\n",
    "            \n",
    "            name=file.split('.')[0] +'-'+ str(oper)+ '-02.png'\n",
    "            \n",
    "        if oper=='c':\n",
    "            if idx%500==0: print('Choice, ', oper)\n",
    "            img=img.transpose(method=Image.Transpose.FLIP_LEFT_RIGHT)\n",
    "            imgarray=np.array(img)\n",
    "            #Row and Col\n",
    "            imgarray[(mhtctr-mheight//2):(mhtctr+mheight//2), :, :] = 0\n",
    "            imgarray[:, (mwidctr-mwidth//2):(mwidctr+mwidth//2), :] = 0\n",
    "            img=Image.fromarray(np.uint8(imgarray))\n",
    "            \n",
    "            name=file.split('.')[0] +'-'+ str(oper)+ '-03.png'\n",
    "            \n",
    "        if oper=='d':\n",
    "            if idx%500==0: print('Choice, ', oper)\n",
    "            img=img.transpose(method=Image.Transpose.FLIP_TOP_BOTTOM)\n",
    "            imgarray=np.array(img)\n",
    "            #Upper left quadrant\n",
    "            imgarray[0:64, 0:64, :] = 0\n",
    "            img=Image.fromarray(np.uint8(imgarray))\n",
    "            \n",
    "            name=file.split('.')[0] + '-'+ str(oper)+'-04.png'\n",
    "            \n",
    "        if oper=='e':\n",
    "            if idx%500==0: print('Choice, ', oper)\n",
    "            img=img.transpose(method=Image.Transpose.FLIP_LEFT_RIGHT)\n",
    "            img=img.rotate(90, expand=False)\n",
    "            imgarray=np.array(img)\n",
    "            #Lower right quadrant\n",
    "            imgarray[128:255, 128:255, :] = 0\n",
    "            img=Image.fromarray(np.uint8(imgarray))\n",
    "            \n",
    "            name=file.split('.')[0] +'-'+ str(oper)+ '-05.png'\n",
    "            \n",
    "        if oper=='f':\n",
    "            if idx%500==0: print('Choice, ', oper)\n",
    "            img=img.transpose(method=Image.Transpose.FLIP_TOP_BOTTOM)\n",
    "            img=img.rotate(90, expand=False)\n",
    "            imgarray=np.array(img)\n",
    "            #middle fat column\n",
    "            imgarray[:, 64:192, :] = 0\n",
    "            img=Image.fromarray(np.uint8(imgarray))\n",
    "            \n",
    "            name=file.split('.')[0] + '-'+ str(oper)+'-06.png'\n",
    "        \n",
    "\n",
    "        img.save(path+name)"
   ]
  },
  {
   "cell_type": "code",
   "execution_count": 7,
   "id": "2540d9a7",
   "metadata": {
    "execution": {
     "iopub.execute_input": "2023-12-29T13:28:24.181399Z",
     "iopub.status.busy": "2023-12-29T13:28:24.180782Z",
     "iopub.status.idle": "2023-12-29T13:28:24.188233Z",
     "shell.execute_reply": "2023-12-29T13:28:24.186791Z"
    },
    "papermill": {
     "duration": 0.019533,
     "end_time": "2023-12-29T13:28:24.191274",
     "exception": false,
     "start_time": "2023-12-29T13:28:24.171741",
     "status": "completed"
    },
    "tags": []
   },
   "outputs": [],
   "source": [
    "#Function that removes image tiles if count exceeds target\n",
    "def prune(path, num, files):\n",
    "    \n",
    "    for i in range(num):\n",
    "        file=random.choice(files)\n",
    "        files.remove(file)\n",
    "        os.remove(path+file)"
   ]
  },
  {
   "cell_type": "code",
   "execution_count": 1,
   "id": "f8bb393b",
   "metadata": {
    "execution": {
     "iopub.execute_input": "2023-12-29T13:28:24.221957Z",
     "iopub.status.busy": "2023-12-29T13:28:24.220562Z",
     "iopub.status.idle": "2023-12-29T13:40:16.526800Z",
     "shell.execute_reply": "2023-12-29T13:40:16.525182Z"
    },
    "papermill": {
     "duration": 712.318918,
     "end_time": "2023-12-29T13:40:16.530483",
     "exception": false,
     "start_time": "2023-12-29T13:28:24.211565",
     "status": "completed"
    },
    "scrolled": true,
    "tags": []
   },
   "outputs": [],
   "source": [
    "#Loop that balances classes and augments image sets unitl total image target is met\n",
    "\n",
    "#total images\n",
    "total=80000\n",
    "\n",
    "#full, thumb\n",
    "tartrain=[.128*total, .032*total]\n",
    "tarval=[.032*total, .008*total]\n",
    "\n",
    "#repeatable masking\n",
    "np.random.seed(41)\n",
    "\n",
    "for cat in cats:\n",
    "    for label in labels:\n",
    "        #fullsize\n",
    "        path='/kaggle/working/'+cat+'/'+label+'/'\n",
    "        files=os.listdir(path)\n",
    "        full=[]\n",
    "        thumb=[]\n",
    "        \n",
    "        #get base list of file types\n",
    "        for file in files:\n",
    "            if file.count('_')>1:\n",
    "                full.append(file)\n",
    "            else:\n",
    "                thumb.append(file)\n",
    "        \n",
    "        #set targets\n",
    "        if 'Val' in cat:\n",
    "            targets=tarval\n",
    "        else:\n",
    "            targets=tartrain   \n",
    "        \n",
    "        #thumbs\n",
    "        if targets[1]>len(thumb):\n",
    "            #augment thumbs\n",
    "            #list ['a','b','c','d','e','f'] represents augmentation type - flip, location of masking\n",
    "            for idx in ['a','b','c','d','e','f']:\n",
    "                files=os.listdir(path)\n",
    "                thumbs=[]\n",
    "                #get count of file types\n",
    "                for file in files:\n",
    "                    if file.count('_')==1:\n",
    "                        thumbs.append(file)\n",
    "                        \n",
    "                if len(thumbs)>=targets[1]:\n",
    "                    continue       \n",
    "                    \n",
    "                #update num, augment\n",
    "                num=targets[1]-len(thumbs)\n",
    "                #augment on original list\n",
    "                augment(path, num, thumb, idx)\n",
    "                \n",
    "        else:\n",
    "            #prune thumbs\n",
    "            num = len(thumb) - targets[1]\n",
    "            prune(path, num, thumb)\n",
    "            \n",
    "        #fullsize\n",
    "        if targets[0]>len(full):\n",
    "            #augment full\n",
    "            #list ['a','b','c','d','e','f'] represents augmentation type - flip, location of masking\n",
    "            for idx in ['a','b','c','d','e','f']:\n",
    "                files=os.listdir(path)\n",
    "                fulls=[]\n",
    "                #get count of file types\n",
    "                for file in files:\n",
    "                    if file.count('_')>1:\n",
    "                        fulls.append(file)\n",
    "\n",
    "                if len(fulls)>=targets[0]:\n",
    "                    continue   \n",
    "                \n",
    "                #update num\n",
    "                num=targets[0]-len(fulls)\n",
    "                print('Re-augment',idx,num)\n",
    "                #augment on original list\n",
    "                augment(path, num, full, idx)\n",
    "                \n",
    "        else:\n",
    "            #prune full\n",
    "            num = len(full) - targets[0]\n",
    "            prune(path, num, full)"
   ]
  },
  {
   "cell_type": "code",
   "execution_count": 11,
   "id": "459789a5",
   "metadata": {
    "execution": {
     "iopub.execute_input": "2023-12-29T13:40:16.660572Z",
     "iopub.status.busy": "2023-12-29T13:40:16.660049Z",
     "iopub.status.idle": "2023-12-29T13:40:16.732184Z",
     "shell.execute_reply": "2023-12-29T13:40:16.730503Z"
    },
    "papermill": {
     "duration": 0.09587,
     "end_time": "2023-12-29T13:40:16.735509",
     "exception": false,
     "start_time": "2023-12-29T13:40:16.639639",
     "status": "completed"
    },
    "tags": []
   },
   "outputs": [
    {
     "name": "stdout",
     "output_type": "stream",
     "text": [
      "ImagesTrain\n",
      "CC 12800\n",
      "EC 12800\n",
      "HGSC 12800\n",
      "LGSC 12800\n",
      "MC 12800\n",
      "ImagesVal\n",
      "CC 3200\n",
      "EC 3200\n",
      "HGSC 3200\n",
      "LGSC 3200\n",
      "MC 3200\n"
     ]
    }
   ],
   "source": [
    "#Verify target sample counts are met\n",
    "for cat in cats:\n",
    "    print(cat)\n",
    "    for label in labels:\n",
    "        #fullsize\n",
    "        path='/kaggle/working/'+cat+'/'+label+'/'\n",
    "        files=os.listdir(path)\n",
    "        print(label, len(files))"
   ]
  },
  {
   "cell_type": "code",
   "execution_count": null,
   "id": "0c4a7e14",
   "metadata": {
    "papermill": {
     "duration": 0.017419,
     "end_time": "2023-12-29T13:40:16.824816",
     "exception": false,
     "start_time": "2023-12-29T13:40:16.807397",
     "status": "completed"
    },
    "tags": []
   },
   "outputs": [],
   "source": []
  }
 ],
 "metadata": {
  "kaggle": {
   "accelerator": "none",
   "dataSources": [
    {
     "databundleVersionId": 6924515,
     "sourceId": 45867,
     "sourceType": "competition"
    },
    {
     "sourceId": 156907983,
     "sourceType": "kernelVersion"
    }
   ],
   "dockerImageVersionId": 30587,
   "isGpuEnabled": false,
   "isInternetEnabled": true,
   "language": "python",
   "sourceType": "notebook"
  },
  "kernelspec": {
   "display_name": "Python 3 (ipykernel)",
   "language": "python",
   "name": "python3"
  },
  "language_info": {
   "codemirror_mode": {
    "name": "ipython",
    "version": 3
   },
   "file_extension": ".py",
   "mimetype": "text/x-python",
   "name": "python",
   "nbconvert_exporter": "python",
   "pygments_lexer": "ipython3",
   "version": "3.9.0"
  },
  "papermill": {
   "default_parameters": {},
   "duration": 947.417349,
   "end_time": "2023-12-29T13:40:17.575994",
   "environment_variables": {},
   "exception": null,
   "input_path": "__notebook__.ipynb",
   "output_path": "__notebook__.ipynb",
   "parameters": {},
   "start_time": "2023-12-29T13:24:30.158645",
   "version": "2.4.0"
  }
 },
 "nbformat": 4,
 "nbformat_minor": 5
}

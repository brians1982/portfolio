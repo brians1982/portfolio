{
 "cells": [
  {
   "cell_type": "markdown",
   "id": "6ccd0414",
   "metadata": {},
   "source": [
    "## Model Inference ##\n",
    "\n",
    "This notebook runs inference on the Kaggle Test dataset and generate 'submission.csv' for contest scoring."
   ]
  },
  {
   "cell_type": "code",
   "execution_count": 1,
   "id": "0f3b7a6d",
   "metadata": {
    "_cell_guid": "b1076dfc-b9ad-4769-8c92-a6c4dae69d19",
    "_uuid": "8f2839f25d086af736a60e9eeb907d3b93b6e0e5",
    "execution": {
     "iopub.execute_input": "2024-01-01T05:54:15.615400Z",
     "iopub.status.busy": "2024-01-01T05:54:15.614456Z",
     "iopub.status.idle": "2024-01-01T05:54:26.633849Z",
     "shell.execute_reply": "2024-01-01T05:54:26.632539Z"
    },
    "papermill": {
     "duration": 11.033862,
     "end_time": "2024-01-01T05:54:26.637004",
     "exception": false,
     "start_time": "2024-01-01T05:54:15.603142",
     "status": "completed"
    },
    "tags": []
   },
   "outputs": [],
   "source": [
    "import numpy as np\n",
    "import pandas as pd \n",
    "import matplotlib.pyplot as plt\n",
    "\n",
    "import tensorflow as tf\n",
    "from tensorflow import keras\n",
    "\n",
    "\n",
    "from PIL import Image, ImageFilter\n",
    "Image.MAX_IMAGE_PIXELS = None\n",
    "\n",
    "import skimage\n",
    "\n",
    "import os\n",
    "import shutil\n",
    "from tqdm import tqdm\n",
    "\n",
    "from random import shuffle\n",
    "\n",
    "import time"
   ]
  },
  {
   "cell_type": "code",
   "execution_count": 2,
   "id": "f5ce8714",
   "metadata": {
    "execution": {
     "iopub.execute_input": "2024-01-01T05:54:26.655562Z",
     "iopub.status.busy": "2024-01-01T05:54:26.654742Z",
     "iopub.status.idle": "2024-01-01T05:54:26.666011Z",
     "shell.execute_reply": "2024-01-01T05:54:26.664750Z"
    },
    "papermill": {
     "duration": 0.023228,
     "end_time": "2024-01-01T05:54:26.668537",
     "exception": false,
     "start_time": "2024-01-01T05:54:26.645309",
     "status": "completed"
    },
    "tags": []
   },
   "outputs": [
    {
     "data": {
      "text/plain": [
       "['updated_image_ids.json',\n",
       " 'test_thumbnails',\n",
       " 'sample_submission.csv',\n",
       " 'train_images',\n",
       " 'train_thumbnails',\n",
       " 'train.csv',\n",
       " 'test.csv',\n",
       " 'test_images']"
      ]
     },
     "execution_count": 2,
     "metadata": {},
     "output_type": "execute_result"
    }
   ],
   "source": [
    "DATA_DIR = '/kaggle/input/UBC-OCEAN/'\n",
    "os.listdir(DATA_DIR)"
   ]
  },
  {
   "cell_type": "code",
   "execution_count": 3,
   "id": "9bae0c3e",
   "metadata": {
    "execution": {
     "iopub.execute_input": "2024-01-01T05:54:26.687120Z",
     "iopub.status.busy": "2024-01-01T05:54:26.686636Z",
     "iopub.status.idle": "2024-01-01T05:54:26.722676Z",
     "shell.execute_reply": "2024-01-01T05:54:26.721422Z"
    },
    "papermill": {
     "duration": 0.048522,
     "end_time": "2024-01-01T05:54:26.725178",
     "exception": false,
     "start_time": "2024-01-01T05:54:26.676656",
     "status": "completed"
    },
    "tags": []
   },
   "outputs": [
    {
     "data": {
      "text/html": [
       "<div>\n",
       "<style scoped>\n",
       "    .dataframe tbody tr th:only-of-type {\n",
       "        vertical-align: middle;\n",
       "    }\n",
       "\n",
       "    .dataframe tbody tr th {\n",
       "        vertical-align: top;\n",
       "    }\n",
       "\n",
       "    .dataframe thead th {\n",
       "        text-align: right;\n",
       "    }\n",
       "</style>\n",
       "<table border=\"1\" class=\"dataframe\">\n",
       "  <thead>\n",
       "    <tr style=\"text-align: right;\">\n",
       "      <th></th>\n",
       "      <th>image_id</th>\n",
       "      <th>image_width</th>\n",
       "      <th>image_height</th>\n",
       "    </tr>\n",
       "  </thead>\n",
       "  <tbody>\n",
       "    <tr>\n",
       "      <th>0</th>\n",
       "      <td>41</td>\n",
       "      <td>28469</td>\n",
       "      <td>16987</td>\n",
       "    </tr>\n",
       "  </tbody>\n",
       "</table>\n",
       "</div>"
      ],
      "text/plain": [
       "   image_id  image_width  image_height\n",
       "0        41        28469         16987"
      ]
     },
     "execution_count": 3,
     "metadata": {},
     "output_type": "execute_result"
    }
   ],
   "source": [
    "test_df=pd.read_csv(DATA_DIR+'test.csv')\n",
    "test_df.tail()"
   ]
  },
  {
   "cell_type": "code",
   "execution_count": 4,
   "id": "e261d224",
   "metadata": {
    "execution": {
     "iopub.execute_input": "2024-01-01T05:54:26.744255Z",
     "iopub.status.busy": "2024-01-01T05:54:26.743761Z",
     "iopub.status.idle": "2024-01-01T05:54:26.755482Z",
     "shell.execute_reply": "2024-01-01T05:54:26.754223Z"
    },
    "papermill": {
     "duration": 0.024105,
     "end_time": "2024-01-01T05:54:26.757800",
     "exception": false,
     "start_time": "2024-01-01T05:54:26.733695",
     "status": "completed"
    },
    "tags": []
   },
   "outputs": [
    {
     "data": {
      "text/plain": [
       "['__results__.html',\n",
       " 'OCEANs_train072.h5',\n",
       " '__notebook__.ipynb',\n",
       " 'model.h5',\n",
       " '__output__.json',\n",
       " 'custom.css']"
      ]
     },
     "execution_count": 4,
     "metadata": {},
     "output_type": "execute_result"
    }
   ],
   "source": [
    "#Make sure Trained model is available\n",
    "os.listdir('/kaggle/input/tl-gpu-072')"
   ]
  },
  {
   "cell_type": "code",
   "execution_count": 7,
   "id": "63a976c4",
   "metadata": {
    "execution": {
     "iopub.execute_input": "2024-01-01T05:54:26.830192Z",
     "iopub.status.busy": "2024-01-01T05:54:26.829737Z",
     "iopub.status.idle": "2024-01-01T05:54:51.373673Z",
     "shell.execute_reply": "2024-01-01T05:54:51.372166Z"
    },
    "papermill": {
     "duration": 24.557324,
     "end_time": "2024-01-01T05:54:51.376888",
     "exception": false,
     "start_time": "2024-01-01T05:54:26.819564",
     "status": "completed"
    },
    "tags": []
   },
   "outputs": [
    {
     "name": "stdout",
     "output_type": "stream",
     "text": [
      "Model: \"sequential_1\"\n",
      "_________________________________________________________________\n",
      " Layer (type)                Output Shape              Param #   \n",
      "=================================================================\n",
      " sequential (Sequential)     (None, 256, 256, 3)       0         \n",
      "                                                                 \n",
      " rescaling_1 (Rescaling)     (None, 256, 256, 3)       0         \n",
      "                                                                 \n",
      " efficientnetv2-m (Functiona  (None, 8, 8, 1280)       53150388  \n",
      " l)                                                              \n",
      "                                                                 \n",
      " gap (GlobalMaxPooling2D)    (None, 1280)              0         \n",
      "                                                                 \n",
      " dense (Dense)               (None, 128)               163968    \n",
      "                                                                 \n",
      " dropout (Dropout)           (None, 128)               0         \n",
      "                                                                 \n",
      " dense_1 (Dense)             (None, 5)                 645       \n",
      "                                                                 \n",
      "=================================================================\n",
      "Total params: 53,315,001\n",
      "Trainable params: 53,022,969\n",
      "Non-trainable params: 292,032\n",
      "_________________________________________________________________\n"
     ]
    }
   ],
   "source": [
    "# #load model\n",
    "model = tf.keras.models.load_model('/kaggle/input/tl-gpu-072/OCEANs_train072.h5')\n",
    "\n",
    "# # Check its architecture\n",
    "model.summary()"
   ]
  },
  {
   "cell_type": "code",
   "execution_count": 8,
   "id": "decd7e39",
   "metadata": {
    "execution": {
     "iopub.execute_input": "2024-01-01T05:54:51.401103Z",
     "iopub.status.busy": "2024-01-01T05:54:51.400664Z",
     "iopub.status.idle": "2024-01-01T05:54:51.414699Z",
     "shell.execute_reply": "2024-01-01T05:54:51.413278Z"
    },
    "papermill": {
     "duration": 0.030079,
     "end_time": "2024-01-01T05:54:51.417930",
     "exception": false,
     "start_time": "2024-01-01T05:54:51.387851",
     "status": "completed"
    },
    "tags": []
   },
   "outputs": [],
   "source": [
    "test_images=os.listdir(DATA_DIR+'test_images')\n",
    "test_thumbnails=os.listdir(DATA_DIR+'test_thumbnails')"
   ]
  },
  {
   "cell_type": "code",
   "execution_count": 9,
   "id": "2fc1af6d",
   "metadata": {
    "execution": {
     "iopub.execute_input": "2024-01-01T05:54:51.443204Z",
     "iopub.status.busy": "2024-01-01T05:54:51.442753Z",
     "iopub.status.idle": "2024-01-01T05:54:51.465112Z",
     "shell.execute_reply": "2024-01-01T05:54:51.463632Z"
    },
    "papermill": {
     "duration": 0.038299,
     "end_time": "2024-01-01T05:54:51.467661",
     "exception": false,
     "start_time": "2024-01-01T05:54:51.429362",
     "status": "completed"
    },
    "tags": []
   },
   "outputs": [],
   "source": [
    "#Add image path and label information to dataframe\n",
    "def addimgpath(row):\n",
    "    img=row['image_id']\n",
    "    img=str(img)+'.png'\n",
    "    if img in test_images:\n",
    "        return DATA_DIR+'test_images/'+img\n",
    "    else:\n",
    "        return None\n",
    "    \n",
    "def addthumbpath(row):\n",
    "    img=row['image_id']\n",
    "    img=str(img)+'_thumbnail.png'\n",
    "    if img in test_thumbnails:\n",
    "        return DATA_DIR+'test_thumbnails/'+img\n",
    "    else:\n",
    "        return None \n",
    "\n",
    "#labels in alphanumeric order from image_dataset_from_directory\n",
    "labels=['CC', 'EC', 'HGSC', 'LGSC', 'MC']\n",
    "\n",
    "test_df['img_path']=test_df[['image_id']].apply(addimgpath, axis=1)\n",
    "test_df['thumb_path']=test_df[['image_id']].apply(addthumbpath, axis=1)"
   ]
  },
  {
   "cell_type": "code",
   "execution_count": 10,
   "id": "b3fdeba9",
   "metadata": {
    "execution": {
     "iopub.execute_input": "2024-01-01T05:54:51.491456Z",
     "iopub.status.busy": "2024-01-01T05:54:51.490975Z",
     "iopub.status.idle": "2024-01-01T05:54:51.502858Z",
     "shell.execute_reply": "2024-01-01T05:54:51.502036Z"
    },
    "papermill": {
     "duration": 0.026308,
     "end_time": "2024-01-01T05:54:51.504911",
     "exception": false,
     "start_time": "2024-01-01T05:54:51.478603",
     "status": "completed"
    },
    "tags": []
   },
   "outputs": [
    {
     "data": {
      "text/html": [
       "<div>\n",
       "<style scoped>\n",
       "    .dataframe tbody tr th:only-of-type {\n",
       "        vertical-align: middle;\n",
       "    }\n",
       "\n",
       "    .dataframe tbody tr th {\n",
       "        vertical-align: top;\n",
       "    }\n",
       "\n",
       "    .dataframe thead th {\n",
       "        text-align: right;\n",
       "    }\n",
       "</style>\n",
       "<table border=\"1\" class=\"dataframe\">\n",
       "  <thead>\n",
       "    <tr style=\"text-align: right;\">\n",
       "      <th></th>\n",
       "      <th>image_id</th>\n",
       "      <th>image_width</th>\n",
       "      <th>image_height</th>\n",
       "      <th>img_path</th>\n",
       "      <th>thumb_path</th>\n",
       "    </tr>\n",
       "  </thead>\n",
       "  <tbody>\n",
       "    <tr>\n",
       "      <th>0</th>\n",
       "      <td>41</td>\n",
       "      <td>28469</td>\n",
       "      <td>16987</td>\n",
       "      <td>/kaggle/input/UBC-OCEAN/test_images/41.png</td>\n",
       "      <td>/kaggle/input/UBC-OCEAN/test_thumbnails/41_thu...</td>\n",
       "    </tr>\n",
       "  </tbody>\n",
       "</table>\n",
       "</div>"
      ],
      "text/plain": [
       "   image_id  image_width  image_height  \\\n",
       "0        41        28469         16987   \n",
       "\n",
       "                                     img_path  \\\n",
       "0  /kaggle/input/UBC-OCEAN/test_images/41.png   \n",
       "\n",
       "                                          thumb_path  \n",
       "0  /kaggle/input/UBC-OCEAN/test_thumbnails/41_thu...  "
      ]
     },
     "execution_count": 10,
     "metadata": {},
     "output_type": "execute_result"
    }
   ],
   "source": [
    "test_df.head()"
   ]
  },
  {
   "cell_type": "code",
   "execution_count": 11,
   "id": "28a43785",
   "metadata": {
    "execution": {
     "iopub.execute_input": "2024-01-01T05:54:51.528544Z",
     "iopub.status.busy": "2024-01-01T05:54:51.528084Z",
     "iopub.status.idle": "2024-01-01T05:54:51.538086Z",
     "shell.execute_reply": "2024-01-01T05:54:51.536951Z"
    },
    "papermill": {
     "duration": 0.024598,
     "end_time": "2024-01-01T05:54:51.540315",
     "exception": false,
     "start_time": "2024-01-01T05:54:51.515717",
     "status": "completed"
    },
    "tags": []
   },
   "outputs": [],
   "source": [
    "#Same as in Image Preparation - decided whether to keep tile\n",
    "def keep_patch(patch, size):\n",
    "    #receives color patch, performs checks\n",
    "    #force np.float64 with *1.0 -> r+b+g won't roll over if exceeds 128 (uint8)\n",
    "    # + 0.001 prevents division by zero\n",
    "    red=patch[:,:,0]*1.0 + 0.001\n",
    "    green=patch[:,:,1]*1.0 + 0.001\n",
    "    blue=patch[:,:,2]*1.0 + 0.001\n",
    "    \n",
    "    blank=np.where((red+blue+green)>3) #not black/masked\n",
    "    white=np.where((red+blue+green)<630)\n",
    "    \n",
    "    #blue intensity where blue > green\n",
    "    bg=np.where(blue/green<=1.0, 0, blue)\n",
    "    bg=np.where(bg<100,0,1)\n",
    "\n",
    "    #criteria\n",
    "    sz=size**2\n",
    "    \n",
    "    #keep: areas with tissue and blueness\n",
    "    if blank[0].shape[0]>.8*sz and white[0].shape[0]>0.5*sz and bg.mean()>0.4:\n",
    "        return True\n",
    "    else:\n",
    "        return False"
   ]
  },
  {
   "cell_type": "code",
   "execution_count": 12,
   "id": "be57505b",
   "metadata": {
    "execution": {
     "iopub.execute_input": "2024-01-01T05:54:51.564107Z",
     "iopub.status.busy": "2024-01-01T05:54:51.563662Z",
     "iopub.status.idle": "2024-01-01T05:54:51.572040Z",
     "shell.execute_reply": "2024-01-01T05:54:51.570900Z"
    },
    "papermill": {
     "duration": 0.023286,
     "end_time": "2024-01-01T05:54:51.574579",
     "exception": false,
     "start_time": "2024-01-01T05:54:51.551293",
     "status": "completed"
    },
    "tags": []
   },
   "outputs": [],
   "source": [
    "#Step over slide to determine tiles to keep\n",
    "def get_thumb_coords(image_array, ws):\n",
    "    #gets coordinates for thumb\n",
    "    #returns bboxes based on intensity metric\n",
    "    \n",
    "    #moving window\n",
    "    dims=image_array.shape\n",
    "    \n",
    "    #height, width\n",
    "    steps=[dims[0]//ws, dims[1]//ws]\n",
    "\n",
    "    coords=[]\n",
    "    for i in range(steps[0]):\n",
    "        for j in range(steps[1]):\n",
    "            patch=image_array[ws*i:ws*i+ws, ws*j:ws*j+ws]\n",
    "\n",
    "            decision = keep_patch(patch, ws)\n",
    "            if decision:\n",
    "                coords.append([i*ws, i*ws+ws, j*ws, j*ws+ws])\n",
    "\n",
    "    return coords, dims"
   ]
  },
  {
   "cell_type": "code",
   "execution_count": 13,
   "id": "d0655a31",
   "metadata": {
    "execution": {
     "iopub.execute_input": "2024-01-01T05:54:51.598340Z",
     "iopub.status.busy": "2024-01-01T05:54:51.597845Z",
     "iopub.status.idle": "2024-01-01T05:55:42.161673Z",
     "shell.execute_reply": "2024-01-01T05:55:42.160312Z"
    },
    "papermill": {
     "duration": 50.57953,
     "end_time": "2024-01-01T05:55:42.165011",
     "exception": false,
     "start_time": "2024-01-01T05:54:51.585481",
     "status": "completed"
    },
    "tags": []
   },
   "outputs": [
    {
     "name": "stdout",
     "output_type": "stream",
     "text": [
      "2/2 [==============================] - 16s 3s/step\n"
     ]
    }
   ],
   "source": [
    "#Window size for searching in thumbnail\n",
    "ws=256\n",
    "fs=1024\n",
    "\n",
    "#Get data from thumbnail images\n",
    "\n",
    "testlabels=[]\n",
    "image_id=[]\n",
    "\n",
    "#Number of sites for high-res and low-res tiles\n",
    "samples_per_image=10 \n",
    "\n",
    "#Limit of tiles per slide\n",
    "samples_per_id=9999\n",
    "\n",
    "#column for thumbnail coordinates ranked by intensity in filters/thresholds\n",
    "test_df['thumbcoords']=None\n",
    "test_df['thumbdims']=None\n",
    "\n",
    "#initialize seed - make repeatable\n",
    "np.random.seed(seed=41)\n",
    "\n",
    "#Loop over samples in Test dataset\n",
    "for idx, row in test_df.iterrows():\n",
    "    #Initialize data per image\n",
    "    fullsize=True\n",
    "    data=[]\n",
    "    thumb=row['thumb_path']\n",
    "    image_id.append(row['image_id'])\n",
    "    if thumb==None:\n",
    "        #Use image, is_tma=True\n",
    "        thumb=row['img_path']\n",
    "        fullsize=False\n",
    "    \n",
    "    img=Image.open(thumb)\n",
    "    imgarray=np.array(img)\n",
    "    \n",
    "    #search image\n",
    "    coords, dims =get_thumb_coords(imgarray, ws)\n",
    "    \n",
    "    #assign to df\n",
    "    test_df.at[idx,'thumbcoords']=coords\n",
    "    test_df.at[idx,'thumbdims']=dims\n",
    "    \n",
    "    #Assign Label 'Other' if very few tiles meet criteria\n",
    "    if len(coords)<2:\n",
    "        testlabels.append('Other')\n",
    "        continue\n",
    "\n",
    "    #Open fullsize image\n",
    "    if fullsize:\n",
    "        fullpath=row['img_path']\n",
    "        fullimg=Image.open(fullpath)\n",
    "    \n",
    "\n",
    "    #shuffle coords - otherwise, tiles would be in the same order within every slide\n",
    "    np.random.shuffle(coords)\n",
    "    for coord in coords[:samples_per_image]:\n",
    "        data.append(imgarray[coord[0]:coord[1],coord[2]:coord[3]])\n",
    "        \n",
    "        if fullsize:\n",
    "            \n",
    "            #ratios to find same spot as thumbnail\n",
    "            thumbheight=dims[0]\n",
    "            thumbwidth=dims[1]\n",
    "            imgheight=row['image_height']\n",
    "            imgwidth=row['image_width']\n",
    "            htratio=imgheight/thumbheight\n",
    "            wdratio=imgwidth/thumbwidth\n",
    "        \n",
    "            #Center of small image, base for 4 large images\n",
    "            ctrht=int(htratio*(coord[0]+coord[1])//2)\n",
    "            ctrwd=int(wdratio*(coord[2]+coord[3])//2)\n",
    "            \n",
    "            #upper left\n",
    "            fullcrop=fullimg.crop((ctrwd-fs, ctrht-fs, ctrwd, ctrht))\n",
    "            fullcrop=fullcrop.resize((ws,ws))\n",
    "            patch=np.array(fullcrop)\n",
    "            decision = keep_patch(patch, ws)\n",
    "            if decision:\n",
    "                data.append(patch)\n",
    "\n",
    "            #upper right\n",
    "            fullcrop=fullimg.crop((ctrwd, ctrht-fs, ctrwd+fs, ctrht))\n",
    "            fullcrop=fullcrop.resize((ws,ws))\n",
    "            patch=np.array(fullcrop)\n",
    "            decision = keep_patch(patch, ws)\n",
    "            if decision:\n",
    "                data.append(patch)\n",
    "\n",
    "            #lower left\n",
    "            fullcrop=fullimg.crop((ctrwd-fs, ctrht, ctrwd, ctrht+fs))\n",
    "            fullcrop=fullcrop.resize((ws,ws))\n",
    "            patch=np.array(fullcrop)\n",
    "            decision = keep_patch(patch, ws)\n",
    "            if decision:\n",
    "                data.append(patch)\n",
    "\n",
    "\n",
    "            #lower right\n",
    "            fullcrop=fullimg.crop((ctrwd, ctrht, ctrwd+fs, ctrht+fs))\n",
    "            fullcrop=fullcrop.resize((ws,ws))\n",
    "            patch=np.array(fullcrop)\n",
    "            decision = keep_patch(patch, ws)\n",
    "            if decision:\n",
    "                data.append(patch)\n",
    "                \n",
    "    #Prep for prediction\n",
    "    data=np.array(data)\n",
    "    \n",
    "    #shuffle and prune - images are sequential prior to shuffle\n",
    "    #shuffle is along first axis\n",
    "    np.random.shuffle(data)\n",
    "    data=data[:samples_per_id]\n",
    "\n",
    "    #Predictions\n",
    "    predictions=model.predict(data)\n",
    "    \n",
    "    #Finding most-favored\n",
    "    #Find average of each, choose max if over 0.3; otherwise, other\n",
    "    predictions=predictions.sum(axis=0)/predictions.shape[0]\n",
    "    maxval=predictions.max()\n",
    "    if maxval>0.3:\n",
    "        label_index=predictions.argmax()\n",
    "        testlabels.append(labels[label_index])\n",
    "    else:\n",
    "        testlabels.append('Other')"
   ]
  },
  {
   "cell_type": "code",
   "execution_count": 16,
   "id": "81758d2e",
   "metadata": {
    "execution": {
     "iopub.execute_input": "2024-01-01T05:55:42.251097Z",
     "iopub.status.busy": "2024-01-01T05:55:42.250653Z",
     "iopub.status.idle": "2024-01-01T05:55:42.261316Z",
     "shell.execute_reply": "2024-01-01T05:55:42.260187Z"
    },
    "papermill": {
     "duration": 0.025484,
     "end_time": "2024-01-01T05:55:42.263752",
     "exception": false,
     "start_time": "2024-01-01T05:55:42.238268",
     "status": "completed"
    },
    "tags": []
   },
   "outputs": [],
   "source": [
    "#Create dictionary for DF, then CSV\n",
    "types={}\n",
    "\n",
    "types['image_id']=image_id\n",
    "types['label']=testlabels\n",
    "\n",
    "#create dataframe for submission\n",
    "dftest_submission = pd.DataFrame(types)\n",
    "dftest_submission.to_csv(\"submission.csv\", index=False)"
   ]
  }
 ],
 "metadata": {
  "kaggle": {
   "accelerator": "none",
   "dataSources": [
    {
     "databundleVersionId": 6924515,
     "sourceId": 45867,
     "sourceType": "competition"
    },
    {
     "sourceId": 157208958,
     "sourceType": "kernelVersion"
    }
   ],
   "dockerImageVersionId": 30558,
   "isGpuEnabled": false,
   "isInternetEnabled": false,
   "language": "python",
   "sourceType": "notebook"
  },
  "kernelspec": {
   "display_name": "Python 3 (ipykernel)",
   "language": "python",
   "name": "python3"
  },
  "language_info": {
   "codemirror_mode": {
    "name": "ipython",
    "version": 3
   },
   "file_extension": ".py",
   "mimetype": "text/x-python",
   "name": "python",
   "nbconvert_exporter": "python",
   "pygments_lexer": "ipython3",
   "version": "3.9.0"
  },
  "papermill": {
   "default_parameters": {},
   "duration": 94.059423,
   "end_time": "2024-01-01T05:55:45.403584",
   "environment_variables": {},
   "exception": null,
   "input_path": "__notebook__.ipynb",
   "output_path": "__notebook__.ipynb",
   "parameters": {},
   "start_time": "2024-01-01T05:54:11.344161",
   "version": "2.4.0"
  }
 },
 "nbformat": 4,
 "nbformat_minor": 5
}

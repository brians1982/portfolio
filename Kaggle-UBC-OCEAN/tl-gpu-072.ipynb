{
 "cells": [
  {
   "cell_type": "markdown",
   "id": "2f009177",
   "metadata": {},
   "source": [
    "## Train the Convolutional Neural Network ##\n",
    "\n",
    "This notebook finetunes an EfficientNet neural network on an array of Kaggle GPUs."
   ]
  },
  {
   "cell_type": "code",
   "execution_count": 1,
   "id": "2d58e887",
   "metadata": {
    "_cell_guid": "b1076dfc-b9ad-4769-8c92-a6c4dae69d19",
    "_uuid": "8f2839f25d086af736a60e9eeb907d3b93b6e0e5",
    "execution": {
     "iopub.execute_input": "2023-12-31T13:38:30.735536Z",
     "iopub.status.busy": "2023-12-31T13:38:30.735260Z",
     "iopub.status.idle": "2023-12-31T13:38:42.173121Z",
     "shell.execute_reply": "2023-12-31T13:38:42.172340Z"
    },
    "papermill": {
     "duration": 11.447178,
     "end_time": "2023-12-31T13:38:42.175675",
     "exception": false,
     "start_time": "2023-12-31T13:38:30.728497",
     "status": "completed"
    },
    "tags": []
   },
   "outputs": [
    {
     "name": "stderr",
     "output_type": "stream",
     "text": [
      "/opt/conda/lib/python3.10/site-packages/scipy/__init__.py:146: UserWarning: A NumPy version >=1.16.5 and <1.23.0 is required for this version of SciPy (detected version 1.23.5\n",
      "  warnings.warn(f\"A NumPy version >={np_minversion} and <{np_maxversion}\"\n"
     ]
    }
   ],
   "source": [
    "import numpy as np\n",
    "import pandas as pd \n",
    "import matplotlib.pyplot as plt\n",
    "\n",
    "\n",
    "from sklearn.utils import shuffle\n",
    "\n",
    "import tensorflow as tf\n",
    "from tensorflow import keras\n",
    "from tensorflow.keras.preprocessing.image import ImageDataGenerator\n",
    "# from tensorflow.keras.applications import EfficientNetB0\n",
    "from tensorflow.keras.applications import EfficientNetV2S\n",
    "from tensorflow.keras.applications import EfficientNetV2M\n",
    "from tensorflow.keras.applications import EfficientNetV2L\n",
    "\n",
    "from PIL import Image, ImageFilter\n",
    "import os\n",
    "import glob\n",
    "\n",
    "from tqdm import tqdm"
   ]
  },
  {
   "cell_type": "code",
   "execution_count": 2,
   "id": "b6f7b4ea",
   "metadata": {
    "execution": {
     "iopub.execute_input": "2023-12-31T13:38:42.188634Z",
     "iopub.status.busy": "2023-12-31T13:38:42.188082Z",
     "iopub.status.idle": "2023-12-31T13:38:47.151353Z",
     "shell.execute_reply": "2023-12-31T13:38:47.150364Z"
    },
    "papermill": {
     "duration": 4.971747,
     "end_time": "2023-12-31T13:38:47.153441",
     "exception": false,
     "start_time": "2023-12-31T13:38:42.181694",
     "status": "completed"
    },
    "tags": []
   },
   "outputs": [
    {
     "name": "stdout",
     "output_type": "stream",
     "text": [
      "Name: /device:GPU:0   Type: GPU\n",
      "Name: /device:GPU:1   Type: GPU\n",
      "Number of devices: 2\n"
     ]
    }
   ],
   "source": [
    "#Get GPU list, set strategy\n",
    "gpus = tf.config.list_logical_devices('GPU')\n",
    "for gpu in gpus:\n",
    "    print(\"Name:\", gpu.name, \"  Type:\", gpu.device_type)\n",
    "    \n",
    "strategy = tf.distribute.MirroredStrategy(gpus)\n",
    "print('Number of devices: {}'.format(strategy.num_replicas_in_sync))"
   ]
  },
  {
   "cell_type": "code",
   "execution_count": 3,
   "id": "824e9a6f",
   "metadata": {
    "execution": {
     "iopub.execute_input": "2023-12-31T13:38:47.166110Z",
     "iopub.status.busy": "2023-12-31T13:38:47.165820Z",
     "iopub.status.idle": "2023-12-31T13:38:47.173928Z",
     "shell.execute_reply": "2023-12-31T13:38:47.173098Z"
    },
    "papermill": {
     "duration": 0.016556,
     "end_time": "2023-12-31T13:38:47.175740",
     "exception": false,
     "start_time": "2023-12-31T13:38:47.159184",
     "status": "completed"
    },
    "tags": []
   },
   "outputs": [
    {
     "data": {
      "text/plain": [
       "['updated_image_ids.json',\n",
       " 'test_thumbnails',\n",
       " 'sample_submission.csv',\n",
       " 'train_images',\n",
       " 'train_thumbnails',\n",
       " 'train.csv',\n",
       " 'test.csv',\n",
       " 'test_images']"
      ]
     },
     "execution_count": 3,
     "metadata": {},
     "output_type": "execute_result"
    }
   ],
   "source": [
    "DATA_DIR = '/kaggle/input/UBC-OCEAN/'\n",
    "os.listdir(DATA_DIR)"
   ]
  },
  {
   "cell_type": "code",
   "execution_count": 4,
   "id": "42f0d9e1",
   "metadata": {
    "execution": {
     "iopub.execute_input": "2023-12-31T13:38:47.188722Z",
     "iopub.status.busy": "2023-12-31T13:38:47.188463Z",
     "iopub.status.idle": "2023-12-31T13:38:47.438049Z",
     "shell.execute_reply": "2023-12-31T13:38:47.437331Z"
    },
    "papermill": {
     "duration": 0.258482,
     "end_time": "2023-12-31T13:38:47.440219",
     "exception": false,
     "start_time": "2023-12-31T13:38:47.181737",
     "status": "completed"
    },
    "tags": []
   },
   "outputs": [],
   "source": [
    "# Open the training dataframe and display the initial dataframe\n",
    "DATA_DIR = '/kaggle/input/UBC-OCEAN/'\n",
    "\n",
    "train_images=os.listdir(DATA_DIR+'train_images')\n",
    "train_thumbnails=os.listdir(DATA_DIR+'train_thumbnails')"
   ]
  },
  {
   "cell_type": "code",
   "execution_count": 5,
   "id": "d8572904",
   "metadata": {
    "execution": {
     "iopub.execute_input": "2023-12-31T13:38:47.453105Z",
     "iopub.status.busy": "2023-12-31T13:38:47.452828Z",
     "iopub.status.idle": "2023-12-31T13:38:47.482266Z",
     "shell.execute_reply": "2023-12-31T13:38:47.481388Z"
    },
    "papermill": {
     "duration": 0.03797,
     "end_time": "2023-12-31T13:38:47.484248",
     "exception": false,
     "start_time": "2023-12-31T13:38:47.446278",
     "status": "completed"
    },
    "tags": []
   },
   "outputs": [
    {
     "data": {
      "text/html": [
       "<div>\n",
       "<style scoped>\n",
       "    .dataframe tbody tr th:only-of-type {\n",
       "        vertical-align: middle;\n",
       "    }\n",
       "\n",
       "    .dataframe tbody tr th {\n",
       "        vertical-align: top;\n",
       "    }\n",
       "\n",
       "    .dataframe thead th {\n",
       "        text-align: right;\n",
       "    }\n",
       "</style>\n",
       "<table border=\"1\" class=\"dataframe\">\n",
       "  <thead>\n",
       "    <tr style=\"text-align: right;\">\n",
       "      <th></th>\n",
       "      <th>image_id</th>\n",
       "      <th>label</th>\n",
       "      <th>image_width</th>\n",
       "      <th>image_height</th>\n",
       "      <th>is_tma</th>\n",
       "    </tr>\n",
       "  </thead>\n",
       "  <tbody>\n",
       "    <tr>\n",
       "      <th>533</th>\n",
       "      <td>65022</td>\n",
       "      <td>LGSC</td>\n",
       "      <td>53355</td>\n",
       "      <td>46675</td>\n",
       "      <td>False</td>\n",
       "    </tr>\n",
       "    <tr>\n",
       "      <th>534</th>\n",
       "      <td>65094</td>\n",
       "      <td>MC</td>\n",
       "      <td>55042</td>\n",
       "      <td>45080</td>\n",
       "      <td>False</td>\n",
       "    </tr>\n",
       "    <tr>\n",
       "      <th>535</th>\n",
       "      <td>65300</td>\n",
       "      <td>HGSC</td>\n",
       "      <td>75860</td>\n",
       "      <td>27503</td>\n",
       "      <td>False</td>\n",
       "    </tr>\n",
       "    <tr>\n",
       "      <th>536</th>\n",
       "      <td>65371</td>\n",
       "      <td>HGSC</td>\n",
       "      <td>42551</td>\n",
       "      <td>41800</td>\n",
       "      <td>False</td>\n",
       "    </tr>\n",
       "    <tr>\n",
       "      <th>537</th>\n",
       "      <td>65533</td>\n",
       "      <td>HGSC</td>\n",
       "      <td>45190</td>\n",
       "      <td>33980</td>\n",
       "      <td>False</td>\n",
       "    </tr>\n",
       "  </tbody>\n",
       "</table>\n",
       "</div>"
      ],
      "text/plain": [
       "     image_id label  image_width  image_height  is_tma\n",
       "533     65022  LGSC        53355         46675   False\n",
       "534     65094    MC        55042         45080   False\n",
       "535     65300  HGSC        75860         27503   False\n",
       "536     65371  HGSC        42551         41800   False\n",
       "537     65533  HGSC        45190         33980   False"
      ]
     },
     "execution_count": 5,
     "metadata": {},
     "output_type": "execute_result"
    }
   ],
   "source": [
    "train_df=pd.read_csv(DATA_DIR+'train.csv')\n",
    "train_df.tail()"
   ]
  },
  {
   "cell_type": "code",
   "execution_count": 6,
   "id": "54586e8a",
   "metadata": {
    "execution": {
     "iopub.execute_input": "2023-12-31T13:38:47.497473Z",
     "iopub.status.busy": "2023-12-31T13:38:47.497200Z",
     "iopub.status.idle": "2023-12-31T13:38:47.508103Z",
     "shell.execute_reply": "2023-12-31T13:38:47.507348Z"
    },
    "papermill": {
     "duration": 0.019672,
     "end_time": "2023-12-31T13:38:47.509834",
     "exception": false,
     "start_time": "2023-12-31T13:38:47.490162",
     "status": "completed"
    },
    "tags": []
   },
   "outputs": [
    {
     "data": {
      "text/plain": [
       "5"
      ]
     },
     "execution_count": 6,
     "metadata": {},
     "output_type": "execute_result"
    }
   ],
   "source": [
    "#Output dimension\n",
    "num_labels=train_df['label'].unique().shape[0]\n",
    "num_labels"
   ]
  },
  {
   "cell_type": "code",
   "execution_count": 9,
   "id": "6779039e",
   "metadata": {
    "execution": {
     "iopub.execute_input": "2023-12-31T13:38:47.564831Z",
     "iopub.status.busy": "2023-12-31T13:38:47.564577Z",
     "iopub.status.idle": "2023-12-31T13:39:18.896719Z",
     "shell.execute_reply": "2023-12-31T13:39:18.895743Z"
    },
    "papermill": {
     "duration": 31.341178,
     "end_time": "2023-12-31T13:39:18.898939",
     "exception": false,
     "start_time": "2023-12-31T13:38:47.557761",
     "status": "completed"
    },
    "tags": []
   },
   "outputs": [
    {
     "name": "stdout",
     "output_type": "stream",
     "text": [
      "Found 64000 files belonging to 5 classes.\n"
     ]
    }
   ],
   "source": [
    "#Load image dataset from directories set up in Balance notebook\n",
    "ws=256\n",
    "target_size=(ws,ws)\n",
    "#train_path='/kaggle/input/imageprep-06/ImagesTrain/'\n",
    "train_path='/kaggle/input/balance-07/ImagesTrain/'\n",
    "\n",
    "train_data = tf.keras.utils.image_dataset_from_directory(train_path,\n",
    "                                                        image_size=target_size,\n",
    "                                                        seed=41,\n",
    "                                                        batch_size=64)"
   ]
  },
  {
   "cell_type": "code",
   "execution_count": 10,
   "id": "98670999",
   "metadata": {
    "execution": {
     "iopub.execute_input": "2023-12-31T13:39:18.913482Z",
     "iopub.status.busy": "2023-12-31T13:39:18.912725Z",
     "iopub.status.idle": "2023-12-31T13:39:24.807845Z",
     "shell.execute_reply": "2023-12-31T13:39:24.806878Z"
    },
    "papermill": {
     "duration": 5.904561,
     "end_time": "2023-12-31T13:39:24.810062",
     "exception": false,
     "start_time": "2023-12-31T13:39:18.905501",
     "status": "completed"
    },
    "tags": []
   },
   "outputs": [
    {
     "name": "stdout",
     "output_type": "stream",
     "text": [
      "Found 16000 files belonging to 5 classes.\n"
     ]
    }
   ],
   "source": [
    "#Load image dataset from directories set up in Balance notebook\n",
    "val_path='/kaggle/input/balance-07/ImagesVal/'\n",
    "val_data = tf.keras.utils.image_dataset_from_directory(val_path,\n",
    "                                                        image_size=target_size,\n",
    "                                                        seed=41,\n",
    "                                                        batch_size=64)"
   ]
  },
  {
   "cell_type": "code",
   "execution_count": 11,
   "id": "b859855d",
   "metadata": {
    "execution": {
     "iopub.execute_input": "2023-12-31T13:39:24.824668Z",
     "iopub.status.busy": "2023-12-31T13:39:24.823967Z",
     "iopub.status.idle": "2023-12-31T13:39:24.827847Z",
     "shell.execute_reply": "2023-12-31T13:39:24.826976Z"
    },
    "papermill": {
     "duration": 0.013038,
     "end_time": "2023-12-31T13:39:24.829816",
     "exception": false,
     "start_time": "2023-12-31T13:39:24.816778",
     "status": "completed"
    },
    "tags": []
   },
   "outputs": [],
   "source": [
    "# Memory issues when using this\n",
    "# AUTOTUNE = tf.data.AUTOTUNE\n",
    "\n",
    "# train_data = train_data.cache().shuffle(1000).prefetch(buffer_size=AUTOTUNE)\n",
    "# val_data = val_data.cache().prefetch(buffer_size=AUTOTUNE)"
   ]
  },
  {
   "cell_type": "code",
   "execution_count": 12,
   "id": "b26a5d5d",
   "metadata": {
    "execution": {
     "iopub.execute_input": "2023-12-31T13:39:24.843551Z",
     "iopub.status.busy": "2023-12-31T13:39:24.843232Z",
     "iopub.status.idle": "2023-12-31T13:39:24.850802Z",
     "shell.execute_reply": "2023-12-31T13:39:24.849964Z"
    },
    "papermill": {
     "duration": 0.01665,
     "end_time": "2023-12-31T13:39:24.852743",
     "exception": false,
     "start_time": "2023-12-31T13:39:24.836093",
     "status": "completed"
    },
    "tags": []
   },
   "outputs": [],
   "source": [
    "#leaky activation function\n",
    "leaky=keras.layers.LeakyReLU(alpha=0.1)\n",
    "\n",
    "#learning rate decay\n",
    "def lr_exp_decay(epoch, lr):\n",
    "    k = 0.05\n",
    "    lr=1.0 * lr * np.exp(-k*epoch)\n",
    "    \n",
    "    return lr"
   ]
  },
  {
   "cell_type": "code",
   "execution_count": 13,
   "id": "7661634c",
   "metadata": {
    "execution": {
     "iopub.execute_input": "2023-12-31T13:39:24.866482Z",
     "iopub.status.busy": "2023-12-31T13:39:24.866229Z",
     "iopub.status.idle": "2023-12-31T13:39:24.870794Z",
     "shell.execute_reply": "2023-12-31T13:39:24.869933Z"
    },
    "papermill": {
     "duration": 0.013296,
     "end_time": "2023-12-31T13:39:24.872616",
     "exception": false,
     "start_time": "2023-12-31T13:39:24.859320",
     "status": "completed"
    },
    "tags": []
   },
   "outputs": [],
   "source": [
    "#Model checkpoints - Early Stopping, Learning Rate Decay, Save Best Checkpoint\n",
    "mdlcheckpoint_cb = keras.callbacks.ModelCheckpoint(\"model.h5\", monitor=\"val_accuracy\", save_best_only=True)\n",
    "earlystopping_cb = keras.callbacks.EarlyStopping(patience=12, restore_best_weights=True)\n",
    "learningrate_cb = keras.callbacks.LearningRateScheduler(lr_exp_decay, verbose=1)"
   ]
  },
  {
   "cell_type": "code",
   "execution_count": 14,
   "id": "00b45e7e",
   "metadata": {
    "execution": {
     "iopub.execute_input": "2023-12-31T13:39:24.886203Z",
     "iopub.status.busy": "2023-12-31T13:39:24.885965Z",
     "iopub.status.idle": "2023-12-31T13:39:24.894492Z",
     "shell.execute_reply": "2023-12-31T13:39:24.893565Z"
    },
    "papermill": {
     "duration": 0.017403,
     "end_time": "2023-12-31T13:39:24.896271",
     "exception": false,
     "start_time": "2023-12-31T13:39:24.878868",
     "status": "completed"
    },
    "tags": []
   },
   "outputs": [],
   "source": [
    "#Function to import EfficientNet, define output layer\n",
    "def build_model():\n",
    "    #Input Shape\n",
    "    input_shape=(ws,ws,3)\n",
    "\n",
    "    #EfficientNetV2\n",
    "    conv_base = EfficientNetV2M(weights='imagenet', include_top=False, input_shape=input_shape)\n",
    "#     conv_base.trainable=False\n",
    "\n",
    "    opt=tf.keras.optimizers.Adam(learning_rate=0.001)\n",
    "    loss=tf.keras.losses.SparseCategoricalCrossentropy(from_logits=False)\n",
    "\n",
    "    #Augmentation layers - flip and rotate\n",
    "    data_augmentation = tf.keras.Sequential([\n",
    "        #tf.keras.layers.RandomFlip(\"horizontal_and_vertical\"),\n",
    "        #tf.keras.layers.RandomRotation(0.2),\n",
    "        tf.keras.layers.RandomBrightness([-0.5,0.5]),\n",
    "        tf.keras.layers.RandomContrast(0.2),\n",
    "    ])\n",
    "\n",
    "    model = tf.keras.Sequential()\n",
    "    model.add(data_augmentation)\n",
    "    model.add(tf.keras.layers.Rescaling(1./255, input_shape=input_shape))\n",
    "    model.add(conv_base)\n",
    "    model.add(tf.keras.layers.GlobalMaxPooling2D(name=\"gap\"))\n",
    "\n",
    "    \n",
    "    model.add(tf.keras.layers.Dense(128, activation='relu'))\n",
    "    #avoid overfitting\n",
    "    model.add(tf.keras.layers.Dropout(0.2))\n",
    "\n",
    "    model.add(tf.keras.layers.Dense(num_labels, activation=\"softmax\"))\n",
    "\n",
    "    model.compile(optimizer=tf.keras.optimizers.Adam(), \n",
    "              loss=loss,\n",
    "              metrics=['accuracy'])\n",
    "    \n",
    "    return model"
   ]
  },
  {
   "cell_type": "code",
   "execution_count": 15,
   "id": "f1950b90",
   "metadata": {
    "execution": {
     "iopub.execute_input": "2023-12-31T13:39:24.909760Z",
     "iopub.status.busy": "2023-12-31T13:39:24.909524Z",
     "iopub.status.idle": "2023-12-31T13:39:37.215823Z",
     "shell.execute_reply": "2023-12-31T13:39:37.214959Z"
    },
    "papermill": {
     "duration": 12.315724,
     "end_time": "2023-12-31T13:39:37.218162",
     "exception": false,
     "start_time": "2023-12-31T13:39:24.902438",
     "status": "completed"
    },
    "tags": []
   },
   "outputs": [
    {
     "name": "stdout",
     "output_type": "stream",
     "text": [
      "Downloading data from https://storage.googleapis.com/tensorflow/keras-applications/efficientnet_v2/efficientnetv2-m_notop.h5\n",
      "214201816/214201816 [==============================] - 1s 0us/step\n"
     ]
    }
   ],
   "source": [
    "#Built model\n",
    "with strategy.scope():\n",
    "    model=build_model()"
   ]
  },
  {
   "cell_type": "code",
   "execution_count": 16,
   "id": "d5d948db",
   "metadata": {
    "execution": {
     "iopub.execute_input": "2023-12-31T13:39:37.251072Z",
     "iopub.status.busy": "2023-12-31T13:39:37.250752Z",
     "iopub.status.idle": "2024-01-01T00:50:59.278177Z",
     "shell.execute_reply": "2024-01-01T00:50:59.277232Z"
    },
    "papermill": {
     "duration": 40284.435786,
     "end_time": "2024-01-01T00:51:01.677590",
     "exception": false,
     "start_time": "2023-12-31T13:39:37.241804",
     "status": "completed"
    },
    "tags": []
   },
   "outputs": [
    {
     "name": "stdout",
     "output_type": "stream",
     "text": [
      "\n",
      "Epoch 1: LearningRateScheduler setting learning rate to 0.0010000000474974513.\n",
      "Epoch 1/30\n"
     ]
    },
    {
     "name": "stderr",
     "output_type": "stream",
     "text": [
      "2023-12-31 13:42:05.769538: E tensorflow/core/grappler/optimizers/meta_optimizer.cc:954] layout failed: INVALID_ARGUMENT: Size of values 0 does not match size of permutation 4 @ fanin shape insequential_1/efficientnetv2-m/block1b_drop/dropout/SelectV2-2-TransposeNHWCToNCHW-LayoutOptimizer\n"
     ]
    },
    {
     "name": "stdout",
     "output_type": "stream",
     "text": [
      "1000/1000 [==============================] - 1591s 1s/step - loss: 1.1439 - accuracy: 0.5392 - val_loss: 1.6803 - val_accuracy: 0.1884 - lr: 0.0010\n",
      "\n",
      "Epoch 2: LearningRateScheduler setting learning rate to 0.0009512294696816873.\n",
      "Epoch 2/30\n",
      "1000/1000 [==============================] - 1329s 1s/step - loss: 0.7885 - accuracy: 0.6965 - val_loss: 1.8132 - val_accuracy: 0.2064 - lr: 9.5123e-04\n",
      "\n",
      "Epoch 3: LearningRateScheduler setting learning rate to 0.0008607080250436449.\n",
      "Epoch 3/30\n",
      "1000/1000 [==============================] - 1321s 1s/step - loss: 0.6479 - accuracy: 0.7528 - val_loss: 2.4080 - val_accuracy: 0.1996 - lr: 8.6071e-04\n",
      "\n",
      "Epoch 4: LearningRateScheduler setting learning rate to 0.0007408182487071516.\n",
      "Epoch 4/30\n",
      "1000/1000 [==============================] - 1325s 1s/step - loss: 0.5340 - accuracy: 0.7971 - val_loss: 2.4885 - val_accuracy: 0.1908 - lr: 7.4082e-04\n",
      "\n",
      "Epoch 5: LearningRateScheduler setting learning rate to 0.0006065307016295101.\n",
      "Epoch 5/30\n",
      "1000/1000 [==============================] - 1337s 1s/step - loss: 0.4217 - accuracy: 0.8410 - val_loss: 2.5990 - val_accuracy: 0.2486 - lr: 6.0653e-04\n",
      "\n",
      "Epoch 6: LearningRateScheduler setting learning rate to 0.000472366580395985.\n",
      "Epoch 6/30\n",
      "1000/1000 [==============================] - 1327s 1s/step - loss: 0.3398 - accuracy: 0.8716 - val_loss: 2.0275 - val_accuracy: 0.2379 - lr: 4.7237e-04\n",
      "\n",
      "Epoch 7: LearningRateScheduler setting learning rate to 0.0003499377670932674.\n",
      "Epoch 7/30\n",
      "1000/1000 [==============================] - 1337s 1s/step - loss: 0.2638 - accuracy: 0.9015 - val_loss: 2.1917 - val_accuracy: 0.5174 - lr: 3.4994e-04\n",
      "\n",
      "Epoch 8: LearningRateScheduler setting learning rate to 0.0002465969741029308.\n",
      "Epoch 8/30\n",
      "1000/1000 [==============================] - 1332s 1s/step - loss: 0.2104 - accuracy: 0.9207 - val_loss: 5.3744 - val_accuracy: 0.2169 - lr: 2.4660e-04\n",
      "\n",
      "Epoch 9: LearningRateScheduler setting learning rate to 0.00016529890454317035.\n",
      "Epoch 9/30\n",
      "1000/1000 [==============================] - 1332s 1s/step - loss: 0.1656 - accuracy: 0.9383 - val_loss: 3.2817 - val_accuracy: 0.1912 - lr: 1.6530e-04\n",
      "\n",
      "Epoch 10: LearningRateScheduler setting learning rate to 0.00010539923287902251.\n",
      "Epoch 10/30\n",
      "1000/1000 [==============================] - 1328s 1s/step - loss: 0.1419 - accuracy: 0.9465 - val_loss: 1.3943 - val_accuracy: 0.7057 - lr: 1.0540e-04\n",
      "\n",
      "Epoch 11: LearningRateScheduler setting learning rate to 6.392786508783188e-05.\n",
      "Epoch 11/30\n",
      "1000/1000 [==============================] - 1338s 1s/step - loss: 0.1227 - accuracy: 0.9540 - val_loss: 1.4652 - val_accuracy: 0.7126 - lr: 6.3928e-05\n",
      "\n",
      "Epoch 12: LearningRateScheduler setting learning rate to 3.6883170163630086e-05.\n",
      "Epoch 12/30\n",
      "1000/1000 [==============================] - 1338s 1s/step - loss: 0.1147 - accuracy: 0.9568 - val_loss: 1.1215 - val_accuracy: 0.7722 - lr: 3.6883e-05\n",
      "\n",
      "Epoch 13: LearningRateScheduler setting learning rate to 2.024191372844128e-05.\n",
      "Epoch 13/30\n",
      "1000/1000 [==============================] - 1336s 1s/step - loss: 0.1078 - accuracy: 0.9592 - val_loss: 0.5734 - val_accuracy: 0.8741 - lr: 2.0242e-05\n",
      "\n",
      "Epoch 14: LearningRateScheduler setting learning rate to 1.0567205806786715e-05.\n",
      "Epoch 14/30\n",
      "1000/1000 [==============================] - 1335s 1s/step - loss: 0.1020 - accuracy: 0.9618 - val_loss: 0.5608 - val_accuracy: 0.8904 - lr: 1.0567e-05\n",
      "\n",
      "Epoch 15: LearningRateScheduler setting learning rate to 5.247519260402714e-06.\n",
      "Epoch 15/30\n",
      "1000/1000 [==============================] - 1330s 1s/step - loss: 0.0989 - accuracy: 0.9619 - val_loss: 0.5698 - val_accuracy: 0.8862 - lr: 5.2475e-06\n",
      "\n",
      "Epoch 16: LearningRateScheduler setting learning rate to 2.478752607626603e-06.\n",
      "Epoch 16/30\n",
      "1000/1000 [==============================] - 1334s 1s/step - loss: 0.0972 - accuracy: 0.9635 - val_loss: 0.5591 - val_accuracy: 0.8886 - lr: 2.4788e-06\n",
      "\n",
      "Epoch 17: LearningRateScheduler setting learning rate to 1.1137753151430903e-06.\n",
      "Epoch 17/30\n",
      "1000/1000 [==============================] - 1325s 1s/step - loss: 0.0950 - accuracy: 0.9637 - val_loss: 0.5574 - val_accuracy: 0.8894 - lr: 1.1138e-06\n",
      "\n",
      "Epoch 18: LearningRateScheduler setting learning rate to 4.760441870275205e-07.\n",
      "Epoch 18/30\n",
      "1000/1000 [==============================] - 1331s 1s/step - loss: 0.0984 - accuracy: 0.9627 - val_loss: 0.5704 - val_accuracy: 0.8904 - lr: 4.7604e-07\n",
      "\n",
      "Epoch 19: LearningRateScheduler setting learning rate to 1.9354512537028575e-07.\n",
      "Epoch 19/30\n",
      "1000/1000 [==============================] - 1332s 1s/step - loss: 0.0991 - accuracy: 0.9621 - val_loss: 0.5588 - val_accuracy: 0.8898 - lr: 1.9355e-07\n",
      "\n",
      "Epoch 20: LearningRateScheduler setting learning rate to 7.485183759493754e-08.\n",
      "Epoch 20/30\n",
      "1000/1000 [==============================] - 1341s 1s/step - loss: 0.0978 - accuracy: 0.9630 - val_loss: 0.5471 - val_accuracy: 0.8916 - lr: 7.4852e-08\n",
      "\n",
      "Epoch 21: LearningRateScheduler setting learning rate to 2.7536453173431943e-08.\n",
      "Epoch 21/30\n",
      "1000/1000 [==============================] - 1333s 1s/step - loss: 0.0955 - accuracy: 0.9639 - val_loss: 0.5535 - val_accuracy: 0.8900 - lr: 2.7536e-08\n",
      "\n",
      "Epoch 22: LearningRateScheduler setting learning rate to 9.636044422514437e-09.\n",
      "Epoch 22/30\n",
      "1000/1000 [==============================] - 1369s 1s/step - loss: 0.0966 - accuracy: 0.9636 - val_loss: 0.5575 - val_accuracy: 0.8903 - lr: 9.6360e-09\n",
      "\n",
      "Epoch 23: LearningRateScheduler setting learning rate to 3.2075606920943097e-09.\n",
      "Epoch 23/30\n",
      "1000/1000 [==============================] - 1340s 1s/step - loss: 0.0977 - accuracy: 0.9628 - val_loss: 0.5552 - val_accuracy: 0.8898 - lr: 3.2076e-09\n",
      "\n",
      "Epoch 24: LearningRateScheduler setting learning rate to 1.0156316454517532e-09.\n",
      "Epoch 24/30\n",
      "1000/1000 [==============================] - 1338s 1s/step - loss: 0.0984 - accuracy: 0.9624 - val_loss: 0.5543 - val_accuracy: 0.8908 - lr: 1.0156e-09\n",
      "\n",
      "Epoch 25: LearningRateScheduler setting learning rate to 3.0590238642049666e-10.\n",
      "Epoch 25/30\n",
      "1000/1000 [==============================] - 1331s 1s/step - loss: 0.0978 - accuracy: 0.9628 - val_loss: 0.5490 - val_accuracy: 0.8908 - lr: 3.0590e-10\n",
      "\n",
      "Epoch 26: LearningRateScheduler setting learning rate to 8.764250117618912e-11.\n",
      "Epoch 26/30\n",
      "1000/1000 [==============================] - 1327s 1s/step - loss: 0.0983 - accuracy: 0.9630 - val_loss: 0.5599 - val_accuracy: 0.8904 - lr: 8.7643e-11\n",
      "\n",
      "Epoch 27: LearningRateScheduler setting learning rate to 2.3885368860582844e-11.\n",
      "Epoch 27/30\n",
      "1000/1000 [==============================] - 1327s 1s/step - loss: 0.0972 - accuracy: 0.9632 - val_loss: 0.5545 - val_accuracy: 0.8913 - lr: 2.3885e-11\n",
      "\n",
      "Epoch 28: LearningRateScheduler setting learning rate to 6.192049382867149e-12.\n",
      "Epoch 28/30\n",
      "1000/1000 [==============================] - 1345s 1s/step - loss: 0.0988 - accuracy: 0.9628 - val_loss: 0.5654 - val_accuracy: 0.8899 - lr: 6.1920e-12\n",
      "\n",
      "Epoch 29: LearningRateScheduler setting learning rate to 1.5269406016850738e-12.\n",
      "Epoch 29/30\n",
      "1000/1000 [==============================] - 1326s 1s/step - loss: 0.1003 - accuracy: 0.9620 - val_loss: 0.5659 - val_accuracy: 0.8903 - lr: 1.5269e-12\n",
      "\n",
      "Epoch 30: LearningRateScheduler setting learning rate to 3.5817489054440777e-13.\n",
      "Epoch 30/30\n",
      "1000/1000 [==============================] - 1331s 1s/step - loss: 0.0952 - accuracy: 0.9634 - val_loss: 0.5602 - val_accuracy: 0.8896 - lr: 3.5817e-13\n"
     ]
    }
   ],
   "source": [
    "#Train model, epochs chosen to fit within 12 hour Notebook training limit\n",
    "history = model.fit(train_data, epochs=30, \n",
    "                    validation_data=val_data,\n",
    "                    callbacks=[earlystopping_cb, mdlcheckpoint_cb, learningrate_cb])\n"
   ]
  },
  {
   "cell_type": "code",
   "execution_count": 17,
   "id": "aa1117f7",
   "metadata": {
    "execution": {
     "iopub.execute_input": "2024-01-01T00:51:06.534338Z",
     "iopub.status.busy": "2024-01-01T00:51:06.533939Z",
     "iopub.status.idle": "2024-01-01T00:51:12.260586Z",
     "shell.execute_reply": "2024-01-01T00:51:12.259784Z"
    },
    "papermill": {
     "duration": 8.066359,
     "end_time": "2024-01-01T00:51:12.263044",
     "exception": false,
     "start_time": "2024-01-01T00:51:04.196685",
     "status": "completed"
    },
    "tags": []
   },
   "outputs": [],
   "source": [
    "#restore checkpoint weights\n",
    "model.load_weights(\"model.h5\")\n",
    "model.save('OCEANs_train072.h5')"
   ]
  }
 ],
 "metadata": {
  "kaggle": {
   "accelerator": "nvidiaTeslaT4",
   "dataSources": [
    {
     "databundleVersionId": 6924515,
     "sourceId": 45867,
     "sourceType": "competition"
    },
    {
     "sourceId": 156990815,
     "sourceType": "kernelVersion"
    }
   ],
   "dockerImageVersionId": 30559,
   "isGpuEnabled": true,
   "isInternetEnabled": true,
   "language": "python",
   "sourceType": "notebook"
  },
  "kernelspec": {
   "display_name": "Python 3 (ipykernel)",
   "language": "python",
   "name": "python3"
  },
  "language_info": {
   "codemirror_mode": {
    "name": "ipython",
    "version": 3
   },
   "file_extension": ".py",
   "mimetype": "text/x-python",
   "name": "python",
   "nbconvert_exporter": "python",
   "pygments_lexer": "ipython3",
   "version": "3.9.0"
  },
  "papermill": {
   "default_parameters": {},
   "duration": 40371.287165,
   "end_time": "2024-01-01T00:51:18.456753",
   "environment_variables": {},
   "exception": null,
   "input_path": "__notebook__.ipynb",
   "output_path": "__notebook__.ipynb",
   "parameters": {},
   "start_time": "2023-12-31T13:38:27.169588",
   "version": "2.4.0"
  }
 },
 "nbformat": 4,
 "nbformat_minor": 5
}

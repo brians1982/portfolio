{
 "cells": [
  {
   "cell_type": "code",
   "execution_count": 1,
   "id": "381dd364",
   "metadata": {},
   "outputs": [],
   "source": [
    "#Brian Shula, 2024"
   ]
  },
  {
   "cell_type": "markdown",
   "id": "ae4091f0",
   "metadata": {},
   "source": [
    "# Second Order ODE for spring-mass-damper system\n",
    "\n",
    "Boyce and DiPrima - Elementary Differential Equations and Boundary Value Problems, 7th Edition,\n",
    "Section 3.8, Example 3\n",
    "\n",
    "u'' + 0.125u' + u = 0\n",
    "\n",
    "Initial Conditions:\n",
    "\n",
    "u(0) = 2, \n",
    "u'(0) = 0"
   ]
  },
  {
   "cell_type": "code",
   "execution_count": 2,
   "id": "051a6559",
   "metadata": {},
   "outputs": [
    {
     "data": {
      "text/plain": [
       "<torch._C.Generator at 0x1d7bf87c050>"
      ]
     },
     "execution_count": 2,
     "metadata": {},
     "output_type": "execute_result"
    }
   ],
   "source": [
    "import numpy as np\n",
    "import matplotlib.pyplot as plt\n",
    "\n",
    "from scipy.integrate import solve_ivp\n",
    "\n",
    "import torch\n",
    "from torch import nn\n",
    "import torch.optim as optim\n",
    "from torch.autograd import Variable\n",
    "from torch.optim.lr_scheduler import CosineAnnealingLR\n",
    "\n",
    "torch.manual_seed(47)"
   ]
  },
  {
   "cell_type": "code",
   "execution_count": 3,
   "id": "67f49592",
   "metadata": {},
   "outputs": [],
   "source": [
    "#Array of time points\n",
    "t = np.linspace(0, 50, 1000)"
   ]
  },
  {
   "cell_type": "code",
   "execution_count": 4,
   "id": "f4e4c6c3",
   "metadata": {},
   "outputs": [],
   "source": [
    "def exact_sol(x):\n",
    "    #Exact Solution\n",
    "    omega = np.sqrt(255/256)\n",
    "    return np.exp(-x / 16) * (2 * np.cos(omega * x) + (2 / np.sqrt(255)) * np.sin(omega * x) )"
   ]
  },
  {
   "cell_type": "code",
   "execution_count": 5,
   "id": "511dd547",
   "metadata": {},
   "outputs": [],
   "source": [
    "#get solution values\n",
    "u = exact_sol(t)"
   ]
  },
  {
   "cell_type": "markdown",
   "id": "0c0707b7",
   "metadata": {},
   "source": [
    "# Solve Numerically using SciPy\n",
    "\n",
    "Solve a system of first-order ODEs using scipy.integrate.solve_ivp:\n",
    "\n",
    "Let x1 = u and x2 = u'.  Then, x2' = u''.\n",
    "\n",
    "The original equation can be rewritten in terms of x1 and x2:\n",
    "\n",
    "x1' = u''\n",
    "\n",
    "x2' = -0.125 * x2 - x1, \n",
    "\n",
    "with x1(0) = 2 and x2(0) = 0."
   ]
  },
  {
   "cell_type": "code",
   "execution_count": 6,
   "id": "094e115f",
   "metadata": {},
   "outputs": [],
   "source": [
    "#Funciton for evalation: returns coefficients matrix multiplied by [x1, x2].T in system\n",
    "def odesol(x, Y):\n",
    "    return [Y[1], -Y[0] - 0.125 * Y[1]]\n",
    "    "
   ]
  },
  {
   "cell_type": "code",
   "execution_count": 7,
   "id": "5ccf871a",
   "metadata": {},
   "outputs": [],
   "source": [
    "#Timespan for numerical integration\n",
    "tspan = [t.min(), t.max()]\n",
    "\n",
    "#Initial conditions for x1, x2\n",
    "u_init = [2. , 0.]\n",
    "\n",
    "#Perform numerical integration\n",
    "sol = solve_ivp(odesol, tspan, u_init, method='RK45', t_eval=t)"
   ]
  },
  {
   "cell_type": "code",
   "execution_count": 8,
   "id": "08eaf39a",
   "metadata": {},
   "outputs": [
    {
     "data": {
      "text/plain": [
       "Text(0.5, 1.0, 'Numerical and Exact Solutions for the Spring-Mass-Damper System')"
      ]
     },
     "execution_count": 8,
     "metadata": {},
     "output_type": "execute_result"
    },
    {
     "data": {
      "image/png": "[encoded data removed]",
      "text/plain": [
       "<Figure size 432x288 with 1 Axes>"
      ]
     },
     "metadata": {
      "needs_background": "light"
     },
     "output_type": "display_data"
    }
   ],
   "source": [
    "#Plot Numerical and Exact solutions\n",
    "plt.plot(t, sol.y[0], label='Numerical')\n",
    "plt.plot(t, u, 'k', ls='--', label='Exact')\n",
    "plt.legend()\n",
    "plt.xlabel('Time, s')\n",
    "plt.ylabel('Amplitdue, ft.')\n",
    "plt.title('Numerical and Exact Solutions for the Spring-Mass-Damper System')"
   ]
  },
  {
   "cell_type": "markdown",
   "id": "84a2e3f5",
   "metadata": {},
   "source": [
    "# PINN Data Preparation \n",
    "Solution Data is prepared by defining the time range and number of data points.  The solution data is generated from the numerical solution defined above.  Train and Test sets are split from the data and converted to PyTorch Tensors.  The data points are also plotted. "
   ]
  },
  {
   "cell_type": "code",
   "execution_count": 9,
   "id": "7ce6a5d6",
   "metadata": {},
   "outputs": [],
   "source": [
    "#Setup for data and collocation points\n",
    "tmin = 0\n",
    "tmax = 50\n",
    "ndata = 500\n",
    "ncoll = 1000"
   ]
  },
  {
   "cell_type": "code",
   "execution_count": 10,
   "id": "1930f10a",
   "metadata": {},
   "outputs": [],
   "source": [
    "#input and solution values\n",
    "t_data = np.linspace(tmin, tmax, ndata)\n",
    "\n",
    "u_data = solve_ivp(odesol, [0, tmax], u_init, method='RK45', t_eval=t_data)"
   ]
  },
  {
   "cell_type": "code",
   "execution_count": 11,
   "id": "b6146d50",
   "metadata": {},
   "outputs": [],
   "source": [
    "#Store inputs-outputs in single array so pairs are kept when shuffled\n",
    "data = np.column_stack((u_data.t, u_data.y[0]))\n",
    "\n",
    "#Random shuffle - shuffle data pairs for splitting\n",
    "np.random.seed(23)\n",
    "\n",
    "rng = np.random.default_rng()\n",
    "rng.shuffle(data)"
   ]
  },
  {
   "cell_type": "code",
   "execution_count": 12,
   "id": "8cef6d32",
   "metadata": {},
   "outputs": [],
   "source": [
    "#Training data sets\n",
    "t_train = data[:int(0.9*ndata), 0]\n",
    "t_test = data[int(0.9*ndata):, 0]\n",
    "\n",
    "u_train = data[:int(0.9*ndata), 1]\n",
    "u_test = data[int(0.9*ndata):, 1]\n",
    "\n",
    "#Expand dims from (ndata,) to (ndata,1), etc.\n",
    "t_train = np.expand_dims(t_train, axis=1)\n",
    "t_test = np.expand_dims(t_test, axis=1)\n",
    "\n",
    "u_train = np.expand_dims(u_train, axis=1)\n",
    "u_test = np.expand_dims(u_test, axis=1)"
   ]
  },
  {
   "cell_type": "code",
   "execution_count": 13,
   "id": "66dcf99d",
   "metadata": {},
   "outputs": [],
   "source": [
    "#Convert Inputs, Outputs to Torch tensors\n",
    "t_train_pt = torch.tensor(t_train, dtype=torch.float32)\n",
    "t_test_pt = torch.tensor(t_test, dtype=torch.float32)\n",
    "\n",
    "u_train_pt = torch.tensor(u_train, dtype=torch.float32)\n",
    "u_test_pt = torch.tensor(u_test, dtype=torch.float32)"
   ]
  },
  {
   "cell_type": "code",
   "execution_count": 14,
   "id": "0903c532",
   "metadata": {},
   "outputs": [
    {
     "data": {
      "text/plain": [
       "Text(0.5, 1.0, 'Train and Test Points')"
      ]
     },
     "execution_count": 14,
     "metadata": {},
     "output_type": "execute_result"
    },
    {
     "data": {
      "image/png": "[encoded data removed]",
      "text/plain": [
       "<Figure size 720x720 with 1 Axes>"
      ]
     },
     "metadata": {
      "needs_background": "light"
     },
     "output_type": "display_data"
    }
   ],
   "source": [
    "plt.subplots(figsize=(10, 10))\n",
    "plt.scatter(t_train, u_train, marker='1', label='Train')\n",
    "plt.scatter(t_test, u_test, marker='2', label='Test')\n",
    "plt.legend()\n",
    "plt.xlabel('Time, s')\n",
    "plt.ylabel('Amplitdue, ft.')\n",
    "plt.title('Train and Test Points')"
   ]
  },
  {
   "cell_type": "markdown",
   "id": "7ed913d5",
   "metadata": {},
   "source": [
    "# PINN Model Setup"
   ]
  },
  {
   "cell_type": "markdown",
   "id": "7f0ab06b",
   "metadata": {},
   "source": [
    "## Physics Loss Function\n",
    "The Physics Loss Function calculates u' and u'' w.r.t. t for the collocation points. The residual is calculated from the original ODE, where u'' + 0.125*u' + u = 0."
   ]
  },
  {
   "cell_type": "code",
   "execution_count": 15,
   "id": "e75721ca",
   "metadata": {},
   "outputs": [],
   "source": [
    "def physics_loss(t, net):\n",
    "    u_pred = net(t)\n",
    "    dudt = torch.autograd.grad(u_pred, t, grad_outputs=torch.ones_like(u_pred), create_graph=True)[0]\n",
    "    d2udt2 = torch.autograd.grad(dudt, t, grad_outputs=torch.ones_like(dudt), create_graph=True)[0]\n",
    "    \n",
    "    #Calculate residuals\n",
    "    #u'' + 0.125u' + u = 0\n",
    "    res = d2udt2 + 0.125*dudt + u_pred\n",
    "    \n",
    "    loss = MSE(res, torch.zeros_like(res))\n",
    "    \n",
    "    return loss"
   ]
  },
  {
   "cell_type": "markdown",
   "id": "b1e895f7",
   "metadata": {},
   "source": [
    "## Neural Network setup\n",
    "The PyTorch PINN is set up to be similar to the TensorFlow PINN."
   ]
  },
  {
   "cell_type": "code",
   "execution_count": 16,
   "id": "14668db0",
   "metadata": {},
   "outputs": [],
   "source": [
    "#Create model\n",
    "#Attempt to use same architecture and training as TensorFlow Notebook\n",
    "\n",
    "#Number of Neurons in hidden layers\n",
    "n_neurons=100\n",
    "\n",
    "class Surrogate(nn.Module): # all the dependencies from torch will be given to this class [parent class] # nn.Module contains all the building block of neural networks:\n",
    "    def __init__(self,input_dim, output_dim):\n",
    "        super(Surrogate,self).__init__()  \n",
    "        #Fully connected layers\n",
    "        self.fc1=nn.Linear(input_dim,n_neurons)\n",
    "        self.fc2=nn.Linear(n_neurons,n_neurons)\n",
    "        self.fc3=nn.Linear(n_neurons,n_neurons)\n",
    "        self.fc4=nn.Linear(n_neurons,output_dim)\n",
    "\n",
    "    def forward(self,x):\n",
    "        #Construct layers\n",
    "        x=self.fc1(x)\n",
    "        x=torch.tanh(x)  \n",
    "        \n",
    "        x=self.fc2(x)\n",
    "        x=torch.tanh(x)  \n",
    "        \n",
    "        x=self.fc3(x)\n",
    "        x=torch.tanh(x) \n",
    "        \n",
    "        x=self.fc4(x)\n",
    "                     \n",
    "        return x                               \n",
    "\n",
    "\n",
    "#Create model    \n",
    "input_dim = t_train.shape[1]\n",
    "output_dim = u_train.shape[1]\n",
    "\n",
    "torch.manual_seed(41)\n",
    "model=Surrogate(input_dim, output_dim)"
   ]
  },
  {
   "cell_type": "markdown",
   "id": "bf12bdce",
   "metadata": {},
   "source": [
    "##  Optimizer and Supporting Components\n",
    "The ADAM optimizer is used with learning rate decay.  The Cosine Annealing function decreases the learning rate."
   ]
  },
  {
   "cell_type": "code",
   "execution_count": 17,
   "id": "1e4cb3a4",
   "metadata": {},
   "outputs": [],
   "source": [
    "#MSE Loss\n",
    "MSE = nn.MSELoss()\n",
    "\n",
    "#Optimizer\n",
    "opt=optim.Adam(params = model.parameters(), lr = 0.001)\n",
    "\n",
    "scheduler = CosineAnnealingLR(opt, \n",
    "                             T_max = 10000, # Maximum number of iterations.\n",
    "                             eta_min = 1e-5) # Minimum learning rate."
   ]
  },
  {
   "cell_type": "markdown",
   "id": "2ca5e28c",
   "metadata": {},
   "source": [
    "## Initial Condition data setup"
   ]
  },
  {
   "cell_type": "code",
   "execution_count": 18,
   "id": "7a94e637",
   "metadata": {},
   "outputs": [],
   "source": [
    "#Initial Conditions data preparation\n",
    "t_bc = np.array([0])\n",
    "t_bc = np.expand_dims(t_bc, axis=1)\n",
    "t_bc_pt = Variable(torch.from_numpy(t_bc).float(), requires_grad=True)\n",
    "\n",
    "u_true_bc = np.array([2.0])\n",
    "u_true_bc = np.expand_dims(u_true_bc, axis=1)\n",
    "u_true_bc_pt = Variable(torch.from_numpy(u_true_bc).float(), requires_grad=True)"
   ]
  },
  {
   "cell_type": "markdown",
   "id": "88f33b76",
   "metadata": {},
   "source": [
    "## Training \n",
    "Training Data is split into batches during the training loop. Collocation points are randonmly chosen for each Epoch. The Total Loss for each Epoch is printed to monitor progress."
   ]
  },
  {
   "cell_type": "code",
   "execution_count": 19,
   "id": "4a7923f3",
   "metadata": {},
   "outputs": [
    {
     "name": "stdout",
     "output_type": "stream",
     "text": [
      "Epoch: 0: Loss=14.68782114982605, Learning Rate:0.00100\n",
      "Epoch: 50: Loss=1.9697485566139221, Learning Rate:0.00100\n",
      "Epoch: 100: Loss=1.6141845732927322, Learning Rate:0.00100\n",
      "Epoch: 150: Loss=1.3023881018161774, Learning Rate:0.00100\n",
      "Epoch: 200: Loss=1.1104524806141853, Learning Rate:0.00100\n",
      "Epoch: 250: Loss=1.0336368083953857, Learning Rate:0.00100\n",
      "Epoch: 300: Loss=0.9831370115280151, Learning Rate:0.00100\n",
      "Epoch: 350: Loss=0.8487665206193924, Learning Rate:0.00100\n",
      "Epoch: 400: Loss=0.6977465525269508, Learning Rate:0.00100\n",
      "Epoch: 450: Loss=0.6162973009049892, Learning Rate:0.00100\n",
      "Epoch: 500: Loss=0.5645604804158211, Learning Rate:0.00099\n",
      "Epoch: 550: Loss=0.5306473821401596, Learning Rate:0.00099\n",
      "Epoch: 600: Loss=0.5101711936295033, Learning Rate:0.00099\n",
      "Epoch: 650: Loss=0.4897354729473591, Learning Rate:0.00099\n",
      "Epoch: 700: Loss=0.45754314959049225, Learning Rate:0.00099\n",
      "Epoch: 750: Loss=0.4410382770001888, Learning Rate:0.00099\n",
      "Epoch: 800: Loss=0.34194555319845676, Learning Rate:0.00098\n",
      "Epoch: 850: Loss=0.21380399726331234, Learning Rate:0.00098\n",
      "Epoch: 900: Loss=0.1454117177054286, Learning Rate:0.00098\n",
      "Epoch: 950: Loss=0.12649833783507347, Learning Rate:0.00098\n",
      "Epoch: 1000: Loss=0.12532515730708838, Learning Rate:0.00098\n",
      "Epoch: 1050: Loss=0.11562161892652512, Learning Rate:0.00097\n",
      "Epoch: 1100: Loss=0.09767134254798293, Learning Rate:0.00097\n",
      "Epoch: 1150: Loss=0.09461148083209991, Learning Rate:0.00097\n",
      "Epoch: 1200: Loss=0.08927540807053447, Learning Rate:0.00097\n",
      "Epoch: 1250: Loss=0.08941019605845213, Learning Rate:0.00096\n",
      "Epoch: 1300: Loss=0.08781040785834193, Learning Rate:0.00096\n",
      "Epoch: 1350: Loss=0.07912826118990779, Learning Rate:0.00096\n",
      "Epoch: 1400: Loss=0.07457498228177428, Learning Rate:0.00095\n",
      "Epoch: 1450: Loss=0.0694943587295711, Learning Rate:0.00095\n",
      "Epoch: 1500: Loss=0.06548752961680293, Learning Rate:0.00095\n",
      "Epoch: 1550: Loss=0.06086693424731493, Learning Rate:0.00094\n",
      "Epoch: 1600: Loss=0.05568737769499421, Learning Rate:0.00094\n",
      "Epoch: 1650: Loss=0.05029593640938401, Learning Rate:0.00093\n",
      "Epoch: 1700: Loss=0.05425603408366442, Learning Rate:0.00093\n",
      "Epoch: 1750: Loss=0.046952079981565475, Learning Rate:0.00093\n",
      "Epoch: 1800: Loss=0.04447897244244814, Learning Rate:0.00092\n",
      "Epoch: 1850: Loss=0.04323176387697458, Learning Rate:0.00092\n",
      "Epoch: 1900: Loss=0.04229795699939132, Learning Rate:0.00091\n",
      "Epoch: 1950: Loss=0.042785489466041327, Learning Rate:0.00091\n",
      "Epoch: 2000: Loss=0.04113053437322378, Learning Rate:0.00091\n",
      "Epoch: 2050: Loss=0.04021897632628679, Learning Rate:0.00090\n",
      "Epoch: 2100: Loss=0.039867780171334743, Learning Rate:0.00090\n",
      "Epoch: 2150: Loss=0.03893286781385541, Learning Rate:0.00089\n",
      "Epoch: 2200: Loss=0.03590760473161936, Learning Rate:0.00089\n",
      "Epoch: 2250: Loss=0.03262154548428953, Learning Rate:0.00088\n",
      "Epoch: 2300: Loss=0.03525544819422066, Learning Rate:0.00088\n",
      "Epoch: 2350: Loss=0.03070444264449179, Learning Rate:0.00087\n",
      "Epoch: 2400: Loss=0.029499299125745893, Learning Rate:0.00087\n",
      "Epoch: 2450: Loss=0.0290186433121562, Learning Rate:0.00086\n",
      "Epoch: 2500: Loss=0.031180905178189278, Learning Rate:0.00085\n",
      "Epoch: 2550: Loss=0.032914381474256516, Learning Rate:0.00085\n",
      "Epoch: 2600: Loss=0.028768653515726328, Learning Rate:0.00084\n",
      "Epoch: 2650: Loss=0.033893215702846646, Learning Rate:0.00084\n",
      "Epoch: 2700: Loss=0.03077883692458272, Learning Rate:0.00083\n",
      "Epoch: 2750: Loss=0.028781988890841603, Learning Rate:0.00083\n",
      "Epoch: 2800: Loss=0.03892281814478338, Learning Rate:0.00082\n",
      "Epoch: 2850: Loss=0.0296075320802629, Learning Rate:0.00081\n",
      "Epoch: 2900: Loss=0.02902806969359517, Learning Rate:0.00081\n",
      "Epoch: 2950: Loss=0.027898907428607345, Learning Rate:0.00080\n",
      "Epoch: 3000: Loss=0.02776542818173766, Learning Rate:0.00080\n",
      "Epoch: 3050: Loss=0.026330641470849514, Learning Rate:0.00079\n",
      "Epoch: 3100: Loss=0.02967952028848231, Learning Rate:0.00078\n",
      "Epoch: 3150: Loss=0.024857538635842502, Learning Rate:0.00078\n",
      "Epoch: 3200: Loss=0.026047817431390285, Learning Rate:0.00077\n",
      "Epoch: 3250: Loss=0.023762720404192805, Learning Rate:0.00076\n",
      "Epoch: 3300: Loss=0.02860338380560279, Learning Rate:0.00076\n",
      "Epoch: 3350: Loss=0.02258337556850165, Learning Rate:0.00075\n",
      "Epoch: 3400: Loss=0.024815006647258997, Learning Rate:0.00074\n",
      "Epoch: 3450: Loss=0.02136274822987616, Learning Rate:0.00074\n",
      "Epoch: 3500: Loss=0.019933096366003156, Learning Rate:0.00073\n",
      "Epoch: 3550: Loss=0.015411777305416763, Learning Rate:0.00072\n",
      "Epoch: 3600: Loss=0.021819472778588533, Learning Rate:0.00072\n",
      "Epoch: 3650: Loss=0.013743014307692647, Learning Rate:0.00071\n",
      "Epoch: 3700: Loss=0.01096343679819256, Learning Rate:0.00070\n",
      "Epoch: 3750: Loss=0.012917030020616949, Learning Rate:0.00069\n",
      "Epoch: 3800: Loss=0.009748328477144241, Learning Rate:0.00069\n",
      "Epoch: 3850: Loss=0.009232286422047764, Learning Rate:0.00068\n",
      "Epoch: 3900: Loss=0.00783269468229264, Learning Rate:0.00067\n",
      "Epoch: 3950: Loss=0.009451693505980074, Learning Rate:0.00067\n",
      "Epoch: 4000: Loss=0.007186108850874007, Learning Rate:0.00066\n",
      "Epoch: 4050: Loss=0.008785521378740668, Learning Rate:0.00065\n",
      "Epoch: 4100: Loss=0.005858119926415384, Learning Rate:0.00064\n",
      "Epoch: 4150: Loss=0.0048222150944639, Learning Rate:0.00064\n",
      "Epoch: 4200: Loss=0.002172538312152028, Learning Rate:0.00063\n",
      "Epoch: 4250: Loss=0.001849205043981783, Learning Rate:0.00062\n",
      "Epoch: 4300: Loss=0.0024704162206035107, Learning Rate:0.00061\n",
      "Epoch: 4350: Loss=0.0010706751418183558, Learning Rate:0.00061\n",
      "Epoch: 4400: Loss=0.002279275024193339, Learning Rate:0.00060\n",
      "Epoch: 4450: Loss=0.0002587428443803219, Learning Rate:0.00059\n",
      "Epoch: 4500: Loss=0.00041993769991677254, Learning Rate:0.00058\n",
      "Epoch: 4550: Loss=0.00035073805702268146, Learning Rate:0.00057\n",
      "Epoch: 4600: Loss=0.0012342264453764074, Learning Rate:0.00057\n",
      "Epoch: 4650: Loss=0.01382236325298436, Learning Rate:0.00056\n",
      "Epoch: 4700: Loss=0.0002252509966638172, Learning Rate:0.00055\n",
      "Epoch: 4750: Loss=0.0002930086320702685, Learning Rate:0.00054\n",
      "Epoch: 4800: Loss=0.004050336152431555, Learning Rate:0.00054\n",
      "Epoch: 4850: Loss=0.001467669651901815, Learning Rate:0.00053\n",
      "Epoch: 4900: Loss=0.0008459535238216631, Learning Rate:0.00052\n",
      "Epoch: 4950: Loss=0.001489891939854715, Learning Rate:0.00051\n",
      "Epoch: 5000: Loss=0.010235831112368032, Learning Rate:0.00050\n",
      "Epoch: 5050: Loss=0.0019890494440915063, Learning Rate:0.00050\n",
      "Epoch: 5100: Loss=0.00460839390871115, Learning Rate:0.00049\n",
      "Epoch: 5150: Loss=0.00048172700917348266, Learning Rate:0.00048\n",
      "Epoch: 5200: Loss=0.009798343002330512, Learning Rate:0.00047\n",
      "Epoch: 5250: Loss=0.0005910853069508448, Learning Rate:0.00047\n",
      "Epoch: 5300: Loss=0.0010790564192575403, Learning Rate:0.00046\n",
      "Epoch: 5350: Loss=0.00026830191018234473, Learning Rate:0.00045\n",
      "Epoch: 5400: Loss=0.00022142766829347238, Learning Rate:0.00044\n",
      "Epoch: 5450: Loss=0.00017215214575116988, Learning Rate:0.00044\n",
      "Epoch: 5500: Loss=0.0004117124517506454, Learning Rate:0.00043\n",
      "Epoch: 5550: Loss=0.00027950352705374826, Learning Rate:0.00042\n",
      "Epoch: 5600: Loss=0.0004662189421651419, Learning Rate:0.00041\n",
      "Epoch: 5650: Loss=0.0014169379428494722, Learning Rate:0.00040\n",
      "Epoch: 5700: Loss=0.0002835725772456499, Learning Rate:0.00040\n",
      "Epoch: 5750: Loss=0.00014840190851828083, Learning Rate:0.00039\n",
      "Epoch: 5800: Loss=0.00013805413163936464, Learning Rate:0.00038\n",
      "Epoch: 5850: Loss=0.0007297608099179342, Learning Rate:0.00037\n",
      "Epoch: 5900: Loss=0.0018531699206505436, Learning Rate:0.00037\n",
      "Epoch: 5950: Loss=0.003941125178243965, Learning Rate:0.00036\n",
      "Epoch: 6000: Loss=0.0007298477394215297, Learning Rate:0.00035\n",
      "Epoch: 6050: Loss=0.008330095268320292, Learning Rate:0.00034\n",
      "Epoch: 6100: Loss=0.0008327121195179643, Learning Rate:0.00034\n",
      "Epoch: 6150: Loss=0.0009171753845294006, Learning Rate:0.00033\n",
      "Epoch: 6200: Loss=0.0007069802668411285, Learning Rate:0.00032\n",
      "Epoch: 6250: Loss=0.00011677164457069011, Learning Rate:0.00032\n",
      "Epoch: 6300: Loss=0.00021299377476680093, Learning Rate:0.00031\n",
      "Epoch: 6350: Loss=0.00012402258289512247, Learning Rate:0.00030\n",
      "Epoch: 6400: Loss=0.00029081689899612684, Learning Rate:0.00029\n",
      "Epoch: 6450: Loss=9.341059740108903e-05, Learning Rate:0.00029\n",
      "Epoch: 6500: Loss=0.00015266933769453317, Learning Rate:0.00028\n",
      "Epoch: 6550: Loss=0.00010907457453868119, Learning Rate:0.00027\n",
      "Epoch: 6600: Loss=0.00014161614762997488, Learning Rate:0.00027\n"
     ]
    },
    {
     "name": "stdout",
     "output_type": "stream",
     "text": [
      "Epoch: 6650: Loss=0.00011426776927692117, Learning Rate:0.00026\n",
      "Epoch: 6700: Loss=0.0006419296696549281, Learning Rate:0.00025\n",
      "Epoch: 6750: Loss=0.00011179249486303888, Learning Rate:0.00025\n",
      "Epoch: 6800: Loss=0.0020511408292804845, Learning Rate:0.00024\n",
      "Epoch: 6850: Loss=0.000171995032360428, Learning Rate:0.00023\n",
      "Epoch: 6900: Loss=0.0001447970107619767, Learning Rate:0.00023\n",
      "Epoch: 6950: Loss=6.364642331391224e-05, Learning Rate:0.00022\n",
      "Epoch: 7000: Loss=9.054934798768954e-05, Learning Rate:0.00021\n",
      "Epoch: 7050: Loss=0.00012016510936518898, Learning Rate:0.00021\n",
      "Epoch: 7100: Loss=8.57397380968905e-05, Learning Rate:0.00020\n",
      "Epoch: 7150: Loss=0.00041309426887892187, Learning Rate:0.00020\n",
      "Epoch: 7200: Loss=0.000135906786454143, Learning Rate:0.00019\n",
      "Epoch: 7250: Loss=0.0001564044796396047, Learning Rate:0.00018\n",
      "Epoch: 7300: Loss=0.00010240615574730327, Learning Rate:0.00018\n",
      "Epoch: 7350: Loss=7.547137192887021e-05, Learning Rate:0.00017\n",
      "Epoch: 7400: Loss=0.00012370378317427821, Learning Rate:0.00017\n",
      "Epoch: 7450: Loss=7.980063855939079e-05, Learning Rate:0.00016\n",
      "Epoch: 7500: Loss=0.00013213978581916308, Learning Rate:0.00015\n",
      "Epoch: 7550: Loss=0.00016780470468802378, Learning Rate:0.00015\n",
      "Epoch: 7600: Loss=0.00015774297025927808, Learning Rate:0.00014\n",
      "Epoch: 7650: Loss=0.00012614517527254065, Learning Rate:0.00014\n",
      "Epoch: 7700: Loss=0.00011216742950637126, Learning Rate:0.00013\n",
      "Epoch: 7750: Loss=9.522975415166002e-05, Learning Rate:0.00013\n",
      "Epoch: 7800: Loss=9.68845006354968e-05, Learning Rate:0.00012\n",
      "Epoch: 7850: Loss=8.11291311038076e-05, Learning Rate:0.00012\n",
      "Epoch: 7900: Loss=0.00013482291797117796, Learning Rate:0.00011\n",
      "Epoch: 7950: Loss=8.773545687290607e-05, Learning Rate:0.00011\n",
      "Epoch: 8000: Loss=0.00012207971121824812, Learning Rate:0.00010\n",
      "Epoch: 8050: Loss=7.416999051201856e-05, Learning Rate:0.00010\n",
      "Epoch: 8100: Loss=7.047803410387132e-05, Learning Rate:0.00010\n",
      "Epoch: 8150: Loss=6.45814543531742e-05, Learning Rate:0.00009\n",
      "Epoch: 8200: Loss=6.372265625032014e-05, Learning Rate:0.00009\n",
      "Epoch: 8250: Loss=7.229839775391156e-05, Learning Rate:0.00008\n",
      "Epoch: 8300: Loss=9.034246704686666e-05, Learning Rate:0.00008\n",
      "Epoch: 8350: Loss=8.37057277749409e-05, Learning Rate:0.00007\n",
      "Epoch: 8400: Loss=0.00011130054190289229, Learning Rate:0.00007\n",
      "Epoch: 8450: Loss=8.229622017097427e-05, Learning Rate:0.00007\n",
      "Epoch: 8500: Loss=9.550704544381006e-05, Learning Rate:0.00006\n",
      "Epoch: 8550: Loss=9.929137377184816e-05, Learning Rate:0.00006\n",
      "Epoch: 8600: Loss=5.1685396101674996e-05, Learning Rate:0.00006\n",
      "Epoch: 8650: Loss=9.617168780096108e-05, Learning Rate:0.00005\n",
      "Epoch: 8700: Loss=8.60612799442606e-05, Learning Rate:0.00005\n",
      "Epoch: 8750: Loss=6.231676616152981e-05, Learning Rate:0.00005\n",
      "Epoch: 8800: Loss=0.00010410231334390119, Learning Rate:0.00004\n",
      "Epoch: 8850: Loss=7.403685867757304e-05, Learning Rate:0.00004\n",
      "Epoch: 8900: Loss=6.461555130954366e-05, Learning Rate:0.00004\n",
      "Epoch: 8950: Loss=4.750680227516568e-05, Learning Rate:0.00004\n",
      "Epoch: 9000: Loss=3.934827373086591e-05, Learning Rate:0.00003\n",
      "Epoch: 9050: Loss=7.15364258212503e-05, Learning Rate:0.00003\n",
      "Epoch: 9100: Loss=6.712917911499972e-05, Learning Rate:0.00003\n",
      "Epoch: 9150: Loss=6.527629102492938e-05, Learning Rate:0.00003\n",
      "Epoch: 9200: Loss=5.4373079365177546e-05, Learning Rate:0.00003\n",
      "Epoch: 9250: Loss=0.00010081413256557425, Learning Rate:0.00002\n",
      "Epoch: 9300: Loss=5.712425218007411e-05, Learning Rate:0.00002\n",
      "Epoch: 9350: Loss=5.2914831940142903e-05, Learning Rate:0.00002\n",
      "Epoch: 9400: Loss=5.523565823750687e-05, Learning Rate:0.00002\n",
      "Epoch: 9450: Loss=4.377469940664014e-05, Learning Rate:0.00002\n",
      "Epoch: 9500: Loss=5.440494396680151e-05, Learning Rate:0.00002\n",
      "Epoch: 9550: Loss=6.637823389610276e-05, Learning Rate:0.00001\n",
      "Epoch: 9600: Loss=4.8109241106431e-05, Learning Rate:0.00001\n",
      "Epoch: 9650: Loss=4.9156180011777906e-05, Learning Rate:0.00001\n",
      "Epoch: 9700: Loss=3.029202116522356e-05, Learning Rate:0.00001\n",
      "Epoch: 9750: Loss=4.2572910842864076e-05, Learning Rate:0.00001\n",
      "Epoch: 9800: Loss=4.65695520688314e-05, Learning Rate:0.00001\n",
      "Epoch: 9850: Loss=4.335671110311523e-05, Learning Rate:0.00001\n",
      "Epoch: 9900: Loss=5.103104376757983e-05, Learning Rate:0.00001\n",
      "Epoch: 9950: Loss=4.5471201701730024e-05, Learning Rate:0.00001\n"
     ]
    }
   ],
   "source": [
    "# training the model:\n",
    "loss_history=[]\n",
    "\n",
    "#Manual batch size\n",
    "batch_size = 64\n",
    "starts = torch.arange(0, len(u_train_pt), batch_size)\n",
    "\n",
    "num_of_epochs=10000\n",
    "for i in range(num_of_epochs):\n",
    "    \n",
    "    #New collocation points every Epoch\n",
    "    t_coll_pt = np.random.random((ncoll,1))*tmax\n",
    "    t_coll_pt = Variable(torch.from_numpy(t_coll_pt).float(), requires_grad=True)\n",
    "    \n",
    "    #Reset tracked loss\n",
    "    tracked_loss = 0\n",
    "    \n",
    "    #loop over batches\n",
    "    for start in starts:\n",
    "        t_train_pt_batch = t_train_pt[start:start+batch_size]\n",
    "        u_train_pt_batch = u_train_pt[start:start+batch_size]\n",
    "\n",
    "        # zero gradients\n",
    "        opt.zero_grad() \n",
    "\n",
    "        # predict\n",
    "        u_pred=model(t_train_pt_batch)  \n",
    "\n",
    "        # calculate Total Loss and save\n",
    "        data_loss = MSE(u_pred, u_train_pt_batch) \n",
    "        PINN_loss = physics_loss(t_coll_pt, model)\n",
    "\n",
    "        u_net_bc = model(t_bc_pt)\n",
    "        IC_loss = MSE(u_net_bc, u_true_bc_pt)\n",
    "\n",
    "        total_loss = PINN_loss + data_loss + IC_loss\n",
    "\n",
    "        # back prop\n",
    "        total_loss.backward()  \n",
    "\n",
    "        # update weights and learning rate\n",
    "        opt.step()\n",
    "        \n",
    "        tracked_loss = tracked_loss + total_loss.detach().numpy()\n",
    "    \n",
    "    #Record Loss on last batch\n",
    "    loss_history.append(tracked_loss)    \n",
    "    \n",
    "    #Update Learning Rate\n",
    "    scheduler.step()\n",
    "    \n",
    "    # print the loss in training part:\n",
    "    if i % 50 == 0:\n",
    "        learning_rate = opt.param_groups[0][\"lr\"]\n",
    "        print(f'Epoch: {i}: Loss={tracked_loss}, Learning Rate:{learning_rate:.5f}')"
   ]
  },
  {
   "cell_type": "markdown",
   "id": "2e6832c3",
   "metadata": {},
   "source": [
    "# Model Evaluation\n",
    "The PINN is able to match the numerical solution quite well."
   ]
  },
  {
   "cell_type": "code",
   "execution_count": 20,
   "id": "28836ca4",
   "metadata": {},
   "outputs": [],
   "source": [
    "# evaluate model:\n",
    "model.eval()\n",
    "\n",
    "with torch.no_grad():\n",
    "    t_eval = np.linspace(0,50,1000).reshape(-1,1)\n",
    "    t_eval_pt = torch.tensor(t_eval, dtype=torch.float32)\n",
    "\n",
    "    u_eval = model(t_eval_pt)\n",
    "    u_eval = u_eval.detach().numpy()"
   ]
  },
  {
   "cell_type": "code",
   "execution_count": 21,
   "id": "47a6a3b2",
   "metadata": {},
   "outputs": [
    {
     "data": {
      "text/plain": [
       "[]"
      ]
     },
     "execution_count": 21,
     "metadata": {},
     "output_type": "execute_result"
    },
    {
     "data": {
      "image/png": "[encoded data removed]",
      "text/plain": [
       "<Figure size 432x288 with 1 Axes>"
      ]
     },
     "metadata": {
      "needs_background": "light"
     },
     "output_type": "display_data"
    }
   ],
   "source": [
    "#Plot PINN Performance against Numerical Solution and Training Data\n",
    "plt.plot(t_eval, sol.y[0], 'r', label='Numerical')\n",
    "plt.plot(t_eval, u_eval, '--k', label='PINN')\n",
    "plt.scatter(t_data, u_data.y[0], label='Training Data')\n",
    "plt.legend()\n",
    "plt.xlabel('Time, s')\n",
    "plt.ylabel('Amplitdue, ft.')\n",
    "plt.title('Numerical Solution and Trg. Data vs. PINN Prediction')\n",
    "plt.plot()"
   ]
  },
  {
   "cell_type": "code",
   "execution_count": null,
   "id": "56678b88",
   "metadata": {},
   "outputs": [],
   "source": []
  }
 ],
 "metadata": {
  "kernelspec": {
   "display_name": "Python 3 (ipykernel)",
   "language": "python",
   "name": "python3"
  },
  "language_info": {
   "codemirror_mode": {
    "name": "ipython",
    "version": 3
   },
   "file_extension": ".py",
   "mimetype": "text/x-python",
   "name": "python",
   "nbconvert_exporter": "python",
   "pygments_lexer": "ipython3",
   "version": "3.9.0"
  }
 },
 "nbformat": 4,
 "nbformat_minor": 5
}

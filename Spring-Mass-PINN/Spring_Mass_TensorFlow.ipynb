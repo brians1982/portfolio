{
 "cells": [
  {
   "cell_type": "code",
   "execution_count": 1,
   "id": "381dd364",
   "metadata": {},
   "outputs": [],
   "source": [
    "#Brian Shula, 2024"
   ]
  },
  {
   "cell_type": "markdown",
   "id": "ae4091f0",
   "metadata": {},
   "source": [
    "# Second Order ODE for spring-mass-damper system\n",
    "\n",
    "Boyce and DiPrima - Elementary Differential Equations and Boundary Value Problems, 7th Edition,\n",
    "Section 3.8, Example 3.\n",
    "\n",
    "Consider a spring-mass-damper system described by:\n",
    "\n",
    "u'' + 0.125u' + u = 0, \n",
    "\n",
    "where m = 1.0 lb and k = 1 lb/ft.\n",
    "\n",
    "Initial Conditions:\n",
    "\n",
    "u(0) = 2, \n",
    "u'(0) = 0"
   ]
  },
  {
   "cell_type": "code",
   "execution_count": 2,
   "id": "051a6559",
   "metadata": {},
   "outputs": [],
   "source": [
    "import numpy as np\n",
    "import matplotlib.pyplot as plt\n",
    "\n",
    "from scipy.integrate import solve_ivp\n",
    "import tensorflow as tf\n",
    "from tensorflow.keras.layers import Activation, Dropout, Dense, LeakyReLU, Input\n",
    "from tensorflow.keras.initializers import RandomNormal\n",
    "from tensorflow.keras import Sequential"
   ]
  },
  {
   "cell_type": "code",
   "execution_count": 3,
   "id": "67f49592",
   "metadata": {},
   "outputs": [],
   "source": [
    "#Array of time points\n",
    "t = np.linspace(0, 50, 1000)"
   ]
  },
  {
   "cell_type": "code",
   "execution_count": 4,
   "id": "74dae5ea",
   "metadata": {},
   "outputs": [],
   "source": [
    "def exact_sol(x):\n",
    "    #Exact Solution\n",
    "    omega = np.sqrt(255/256)\n",
    "    return np.exp(-x / 16) * (2 * np.cos(omega * x) + (2 / np.sqrt(255)) * np.sin(omega * x) )"
   ]
  },
  {
   "cell_type": "code",
   "execution_count": 5,
   "id": "f1432bbf",
   "metadata": {},
   "outputs": [],
   "source": [
    "#get solution values\n",
    "u = exact_sol(t)"
   ]
  },
  {
   "cell_type": "markdown",
   "id": "0c0707b7",
   "metadata": {},
   "source": [
    "# Solve Numerically using SciPy\n",
    "\n",
    "Solve a system of first-order ODEs using scipy.integrate.solve_ivp:\n",
    "\n",
    "Let x1 = u and x2 = u'.  Then, x2' = u''.\n",
    "\n",
    "The original equation can be rewritten in terms of x1 and x2:\n",
    "\n",
    "x1' = u''\n",
    "\n",
    "x2' = -0.125 * x2 - x1, \n",
    "\n",
    "with x1(0) = 2 and x2(0) = 0."
   ]
  },
  {
   "cell_type": "code",
   "execution_count": 6,
   "id": "094e115f",
   "metadata": {},
   "outputs": [],
   "source": [
    "#Funciton for evalation: returns coefficients matrix multiplied by [x1, x2].T in system\n",
    "def odesol(x, Y):\n",
    "    return [Y[1], -Y[0] - 0.125 * Y[1]]\n",
    "    "
   ]
  },
  {
   "cell_type": "code",
   "execution_count": 7,
   "id": "5ccf871a",
   "metadata": {},
   "outputs": [],
   "source": [
    "#Timespan for numerical integration\n",
    "tspan = [t.min(), t.max()]\n",
    "\n",
    "#Initial conditions for x1, x2\n",
    "u_init = [2. , 0.]\n",
    "\n",
    "#Perform numerical integration\n",
    "sol = solve_ivp(odesol, tspan, u_init, method='RK45', t_eval=t)"
   ]
  },
  {
   "cell_type": "code",
   "execution_count": 8,
   "id": "08eaf39a",
   "metadata": {},
   "outputs": [
    {
     "data": {
      "text/plain": [
       "Text(0.5, 1.0, 'Numerical and Exact Solutions for the Spring-Mass-Damper System')"
      ]
     },
     "execution_count": 8,
     "metadata": {},
     "output_type": "execute_result"
    },
    {
     "data": {
      "image/png": "[encoded data removed]",
      "text/plain": [
       "<Figure size 432x288 with 1 Axes>"
      ]
     },
     "metadata": {
      "needs_background": "light"
     },
     "output_type": "display_data"
    }
   ],
   "source": [
    "#Plot Numerical and Exact solutions\n",
    "plt.plot(t, sol.y[0], label='Numerical')\n",
    "plt.plot(t, u, 'k', ls='--', label='Exact')\n",
    "plt.legend()\n",
    "plt.xlabel('Time, s')\n",
    "plt.ylabel('Amplitdue, ft.')\n",
    "plt.title('Numerical and Exact Solutions for the Spring-Mass-Damper System')"
   ]
  },
  {
   "cell_type": "markdown",
   "id": "860066d4",
   "metadata": {},
   "source": [
    "# PINN Data Preparation \n",
    "Solution Data is prepared by defining the time range and number of data points.  The solution data is generated from the numerical solution defined above.  Train and Test sets are split from the data and converted to Tensforflow Datasets and shuffled.  The data points are also plotted. "
   ]
  },
  {
   "cell_type": "code",
   "execution_count": 9,
   "id": "67d2f105",
   "metadata": {},
   "outputs": [],
   "source": [
    "#Setup for data and collocation points\n",
    "tmin = 0\n",
    "tmax = 50\n",
    "ndata = 500\n",
    "ncoll = 1000"
   ]
  },
  {
   "cell_type": "code",
   "execution_count": 10,
   "id": "1930f10a",
   "metadata": {},
   "outputs": [],
   "source": [
    "#input and solution values\n",
    "t_data = np.linspace(tmin, tmax, ndata)\n",
    "u_data = solve_ivp(odesol, [0, tmax], u_init, method='RK45', t_eval=t_data)"
   ]
  },
  {
   "cell_type": "code",
   "execution_count": 11,
   "id": "0d319878",
   "metadata": {},
   "outputs": [],
   "source": [
    "#Store inputs-outputs in single array so pairs are kept when shuffled\n",
    "data = np.column_stack((u_data.t, u_data.y[0]))\n",
    "\n",
    "#Random shuffle - shuffle times for random order in training batches\n",
    "rng = np.random.default_rng()\n",
    "rng.shuffle(data)"
   ]
  },
  {
   "cell_type": "code",
   "execution_count": 12,
   "id": "2f292528",
   "metadata": {},
   "outputs": [],
   "source": [
    "#Training data sets\n",
    "t_train = data[:int(0.9*ndata), 0]\n",
    "t_test = data[int(0.9*ndata):, 0]\n",
    "\n",
    "u_train = data[:int(0.9*ndata), 1]\n",
    "u_test = data[int(0.9*ndata):, 1]"
   ]
  },
  {
   "cell_type": "code",
   "execution_count": 13,
   "id": "854d3f59",
   "metadata": {},
   "outputs": [],
   "source": [
    "#Tensorflow Tensors and Datasets\n",
    "\n",
    "#Training Data\n",
    "t_train_data = tf.convert_to_tensor(t_train[..., tf.newaxis], dtype=tf.float32)\n",
    "u_train_data = tf.convert_to_tensor(u_train[..., tf.newaxis], dtype=tf.float32)\n",
    "train_ds_data = tf.data.Dataset.from_tensor_slices((t_train_data, u_train_data)).shuffle(10*ndata).batch(64)\n",
    "\n",
    "#Test Data\n",
    "t_test_data = tf.convert_to_tensor(t_test[..., tf.newaxis], dtype=tf.float32)\n",
    "u_test_data = tf.convert_to_tensor(u_test[..., tf.newaxis], dtype=tf.float32)\n",
    "test_ds_data = tf.data.Dataset.from_tensor_slices((t_test_data, u_test_data)).shuffle(10*ndata).batch(64)"
   ]
  },
  {
   "cell_type": "code",
   "execution_count": 14,
   "id": "3b0feaa6",
   "metadata": {},
   "outputs": [
    {
     "data": {
      "text/plain": [
       "<matplotlib.legend.Legend at 0x2590c21ea60>"
      ]
     },
     "execution_count": 14,
     "metadata": {},
     "output_type": "execute_result"
    },
    {
     "data": {
      "image/png": "[encoded data removed]",
      "text/plain": [
       "<Figure size 720x288 with 1 Axes>"
      ]
     },
     "metadata": {
      "needs_background": "light"
     },
     "output_type": "display_data"
    }
   ],
   "source": [
    "#Plot Training and Test Datasets\n",
    "plt.subplots(figsize=(10, 4))\n",
    "plt.scatter(t_train, u_train, marker='1', label='Train')\n",
    "plt.scatter(t_test, u_test, marker='2', label='Test')\n",
    "\n",
    "plt.xlabel('Time, s')\n",
    "plt.ylabel('Amplitdue, ft.')\n",
    "plt.title('Train and Test Points')\n",
    "plt.legend()"
   ]
  },
  {
   "cell_type": "markdown",
   "id": "8d1a1825",
   "metadata": {},
   "source": [
    "# PINN Model Setup"
   ]
  },
  {
   "cell_type": "markdown",
   "id": "8c9fd424",
   "metadata": {},
   "source": [
    "## Physics Loss Function\n",
    "The Physics Loss Function calculates u' and u'' w.r.t. t for the collocation points. The residual is calculated from the original ODE, where u'' + 0.125*u' + u = 0."
   ]
  },
  {
   "cell_type": "code",
   "execution_count": 15,
   "id": "897a0d10",
   "metadata": {},
   "outputs": [],
   "source": [
    "@tf.function\n",
    "def physics_loss(tcoll_loss, inputs, outputs, training):\n",
    "    with tf.GradientTape() as tape2:\n",
    "        tape2.watch(tcoll_loss)\n",
    "        with tf.GradientTape() as tape1:\n",
    "            tape1.watch(tcoll_loss)\n",
    "            u_pred = model(tcoll_loss, training=training)\n",
    "\n",
    "        #calculate gradients\n",
    "        dudt = tape1.gradient(u_pred, tcoll_loss)\n",
    "    d2udt2 = tape2.gradient(dudt, tcoll_loss)\n",
    "\n",
    "    #Residuals based on original Eqn.\n",
    "    #d2udt2 + 0.125*dudt + u = 0\n",
    "    res = d2udt2 + 0.125*dudt + u_pred\n",
    "    \n",
    "    #PINN loss\n",
    "    loss=tf.reduce_mean(tf.keras.losses.mean_squared_error(res, tf.zeros_like(res)))\n",
    "    \n",
    "    return loss"
   ]
  },
  {
   "cell_type": "markdown",
   "id": "9cf43a3b",
   "metadata": {},
   "source": [
    "## Training Function controls model weight updates\n",
    "The Training Function updates model weights based on the calculated Loss. The Loss is made up of Data Loss, Initial Conditions Loss, and Loss calculated from derivatives on the ODE (PINN loss)."
   ]
  },
  {
   "cell_type": "code",
   "execution_count": 16,
   "id": "42d51e11",
   "metadata": {},
   "outputs": [],
   "source": [
    "@tf.function\n",
    "def train_step(tcoll_loss, inputs, outputs):\n",
    "    with tf.GradientTape() as tape:\n",
    "        tape.watch(model.trainable_weights)\n",
    "        \n",
    "        #ODE Loss\n",
    "        # training=True is only needed if there are layers with different\n",
    "        # behavior during training versus inference (e.g. Dropout).\n",
    "        PINN_loss = physics_loss(tcoll_loss, inputs, outputs, training=True)\n",
    "\n",
    "        #Data loss\n",
    "        predictions = model(inputs, training=True)\n",
    "        data_loss = tf.reduce_mean(tf.keras.losses.mean_squared_error(outputs, predictions))\n",
    "        \n",
    "        #Initial Conditions loss u(0) = 2.0\n",
    "        u_init = tf.constant([0], dtype=tf.float32)\n",
    "        pred_init = model(u_init, training=True)\n",
    "        ic_loss = tf.reduce_mean(tf.keras.losses.mean_squared_error(tf.constant([2.0], dtype=tf.float32), pred_init))\n",
    "        \n",
    "        #Combined loss\n",
    "        total_loss = PINN_loss + data_loss + ic_loss\n",
    "\n",
    "    #Update model weights    \n",
    "    gradients = tape.gradient(total_loss, model.trainable_variables)\n",
    "    optimizer.apply_gradients(zip(gradients, model.trainable_variables))\n",
    "\n",
    "    train_loss(total_loss)"
   ]
  },
  {
   "cell_type": "markdown",
   "id": "cd9bf35b",
   "metadata": {},
   "source": [
    "## Test Function monitors model performance on unseen data\n",
    "\n",
    "The Test Function is similar to the Training Function, except gradients are not calculated and weights are not updated."
   ]
  },
  {
   "cell_type": "code",
   "execution_count": 17,
   "id": "0d1bf439",
   "metadata": {},
   "outputs": [],
   "source": [
    "@tf.function\n",
    "def test_step(tcoll_loss, inputs, outputs):\n",
    "\n",
    "    #PINN loss\n",
    "    # training=True is only needed if there are layers with different\n",
    "    # behavior during training versus inference (e.g. Dropout).\n",
    "    PINN_loss = physics_loss(tcoll_loss, inputs, outputs, training=False)\n",
    "    \n",
    "    #Data loss\n",
    "    predictions = model(inputs, training=False)\n",
    "    data_loss = tf.reduce_mean(tf.keras.losses.mean_squared_error(outputs, predictions))\n",
    "    \n",
    "    #Initial Conditions loss u(0) = 0\n",
    "    u_init = tf.constant([0], dtype=tf.float32)\n",
    "    pred_init = model(u_init, training=True)\n",
    "    ic_loss = tf.reduce_mean(tf.keras.losses.mean_squared_error(tf.constant([2.0], dtype=tf.float32), pred_init))\n",
    "    \n",
    "    #Combined Loss\n",
    "    total_loss = PINN_loss + data_loss + ic_loss\n",
    "\n",
    "    test_loss(total_loss)"
   ]
  },
  {
   "cell_type": "markdown",
   "id": "c6b97836",
   "metadata": {},
   "source": [
    "## PINN Definition\n",
    "\n",
    "The model is set up with 2 hidden layers containing 100 neurons each."
   ]
  },
  {
   "cell_type": "code",
   "execution_count": 18,
   "id": "0b68020b",
   "metadata": {},
   "outputs": [
    {
     "name": "stdout",
     "output_type": "stream",
     "text": [
      "Model: \"sequential\"\n",
      "_________________________________________________________________\n",
      " Layer (type)                Output Shape              Param #   \n",
      "=================================================================\n",
      " dense (Dense)               (None, 100)               200       \n",
      "                                                                 \n",
      " dense_1 (Dense)             (None, 100)               10100     \n",
      "                                                                 \n",
      " dense_2 (Dense)             (None, 100)               10100     \n",
      "                                                                 \n",
      " dense_3 (Dense)             (None, 1)                 101       \n",
      "                                                                 \n",
      "=================================================================\n",
      "Total params: 20,501\n",
      "Trainable params: 20,501\n",
      "Non-trainable params: 0\n",
      "_________________________________________________________________\n"
     ]
    }
   ],
   "source": [
    "#Metrics\n",
    "train_loss = tf.keras.metrics.Mean(name='train_loss')\n",
    "test_loss = tf.keras.metrics.Mean(name='test_loss')\n",
    "\n",
    "#Define Optimizer - Adam optimizer with initial learning rate\n",
    "optimizer=tf.keras.optimizers.Adam(learning_rate=0.001)\n",
    "\n",
    "#Neural Network construction\n",
    "input_size = 1\n",
    "output_size = 1\n",
    "\n",
    "#Number of Neurons in hidden layers\n",
    "n_neurons=100\n",
    "\n",
    "#Activation\n",
    "act='tanh'\n",
    "\n",
    "#Fully-connected NN with Dense layers\n",
    "model=Sequential([\n",
    "    Dense(n_neurons, activation=act, input_shape=(input_size,)),\n",
    "    Dense(n_neurons, activation=act),\n",
    "    Dense(n_neurons, activation=act),\n",
    "    Dense(output_size, activation='linear'),\n",
    "])\n",
    "\n",
    "model.summary()"
   ]
  },
  {
   "cell_type": "code",
   "execution_count": 19,
   "id": "37ff173c",
   "metadata": {},
   "outputs": [],
   "source": [
    "#Compile model\n",
    "model.compile(optimizer=optimizer)"
   ]
  },
  {
   "cell_type": "code",
   "execution_count": 20,
   "id": "9ab8a875",
   "metadata": {},
   "outputs": [],
   "source": [
    "#Learning Rate Decay\n",
    "def lr_exp_decay(epoch, lr):\n",
    "    #Start decay after specified epochs where default training rate is effective\n",
    "    start=200\n",
    "    if epoch > start:\n",
    "        k = 0.0005\n",
    "        lr=1.0 * lr * np.exp(-k*(epoch-start))\n",
    "        #maintain minimum learning rate\n",
    "        if lr<0.0001:\n",
    "            lr=0.0001\n",
    "    else:\n",
    "        lr=0.001\n",
    "\n",
    "    return lr"
   ]
  },
  {
   "cell_type": "code",
   "execution_count": 21,
   "id": "a00e5c22",
   "metadata": {},
   "outputs": [
    {
     "data": {
      "image/png": "[encoded data removed]",
      "text/plain": [
       "<Figure size 432x288 with 1 Axes>"
      ]
     },
     "metadata": {
      "needs_background": "light"
     },
     "output_type": "display_data"
    }
   ],
   "source": [
    "#Plot LR Decay\n",
    "e = np.linspace(0,5000)\n",
    "\n",
    "#lr_exp_decay not set up for array operations\n",
    "lr=[]\n",
    "for i in e:\n",
    "    lr.append(lr_exp_decay(i, 0.001))\n",
    "\n",
    "plt.plot(e, lr, label='Learning Rate')\n",
    "plt.legend()\n",
    "plt.xlabel('Epoch')\n",
    "plt.ylabel('Learning Rate')\n",
    "plt.title('Learning Rate Decay')\n",
    "plt.show()"
   ]
  },
  {
   "cell_type": "code",
   "execution_count": 22,
   "id": "dd7aa5c1",
   "metadata": {},
   "outputs": [],
   "source": [
    "# Configure callbacks\n",
    "chkpt_cb = tf.keras.callbacks.ModelCheckpoint('SpringMassPINN_model.h5', monitor='val_loss', save_best_only=True)\n",
    "lr_cb = tf.keras.callbacks.LearningRateScheduler(lr_exp_decay, verbose=1)\n",
    "\n",
    "cblist = [chkpt_cb, lr_cb]\n",
    "callbacks = tf.keras.callbacks.CallbackList(cblist, add_history=False, model=model)"
   ]
  },
  {
   "cell_type": "markdown",
   "id": "1d6fb581",
   "metadata": {},
   "source": [
    "# Model Training"
   ]
  },
  {
   "cell_type": "code",
   "execution_count": 23,
   "id": "97399764",
   "metadata": {
    "scrolled": false
   },
   "outputs": [
    {
     "name": "stdout",
     "output_type": "stream",
     "text": [
      "Epoch 1, Loss: 4.163818359375, Test Loss: 3.5212645530700684 \n",
      "Epoch 51, Loss: 0.39357084035873413, Test Loss: 0.37526148557662964 \n",
      "Epoch 101, Loss: 0.20924808084964752, Test Loss: 0.2899824380874634 \n",
      "Epoch 151, Loss: 0.1792716681957245, Test Loss: 0.2268683910369873 \n",
      "Epoch 201, Loss: 0.1417604237794876, Test Loss: 0.15056194365024567 \n",
      "Epoch 251, Loss: 0.1312897503376007, Test Loss: 0.11917706578969955 \n",
      "Epoch 301, Loss: 0.12072315812110901, Test Loss: 0.09628493338823318 \n",
      "Epoch 351, Loss: 0.1015838161110878, Test Loss: 0.07909779250621796 \n",
      "Epoch 401, Loss: 0.09553061425685883, Test Loss: 0.06940098851919174 \n",
      "Epoch 451, Loss: 0.08527957648038864, Test Loss: 0.06549675762653351 \n",
      "Epoch 501, Loss: 0.06518711894750595, Test Loss: 0.050036631524562836 \n",
      "Epoch 551, Loss: 0.07113411277532578, Test Loss: 0.05206958204507828 \n",
      "Epoch 601, Loss: 0.05737617239356041, Test Loss: 0.05426054075360298 \n",
      "Epoch 651, Loss: 0.047780100256204605, Test Loss: 0.048889774829149246 \n",
      "Epoch 701, Loss: 0.041955288499593735, Test Loss: 0.04798281192779541 \n",
      "Epoch 751, Loss: 0.042326249182224274, Test Loss: 0.04274515435099602 \n",
      "Epoch 801, Loss: 0.03598417341709137, Test Loss: 0.03669507056474686 \n",
      "Epoch 851, Loss: 0.04012007638812065, Test Loss: 0.0389934703707695 \n",
      "Epoch 901, Loss: 0.0322263203561306, Test Loss: 0.03036612644791603 \n",
      "Epoch 951, Loss: 0.02743973769247532, Test Loss: 0.030954185873270035 \n",
      "Epoch 1001, Loss: 0.027473583817481995, Test Loss: 0.026516178622841835 \n",
      "Epoch 1051, Loss: 0.027431165799498558, Test Loss: 0.028745610266923904 \n",
      "Epoch 1101, Loss: 0.022971658036112785, Test Loss: 0.021239228546619415 \n",
      "Epoch 1151, Loss: 0.022794166579842567, Test Loss: 0.019490545615553856 \n",
      "Epoch 1201, Loss: 0.022317510098218918, Test Loss: 0.019977081567049026 \n",
      "Epoch 1251, Loss: 0.01980414427816868, Test Loss: 0.01924958825111389 \n",
      "Epoch 1301, Loss: 0.021672315895557404, Test Loss: 0.016443954780697823 \n",
      "Epoch 1351, Loss: 0.017527449876070023, Test Loss: 0.01377622876316309 \n",
      "Epoch 1401, Loss: 0.01572088710963726, Test Loss: 0.011296733282506466 \n",
      "Epoch 1451, Loss: 0.013327083550393581, Test Loss: 0.015455038286745548 \n",
      "Epoch 1501, Loss: 0.01685524918138981, Test Loss: 0.009991012513637543 \n",
      "Epoch 1551, Loss: 0.01482381671667099, Test Loss: 0.011444367468357086 \n",
      "Epoch 1601, Loss: 0.014387812465429306, Test Loss: 0.0076779648661613464 \n",
      "Epoch 1651, Loss: 0.017509575933218002, Test Loss: 0.00947392825037241 \n",
      "Epoch 1701, Loss: 0.011757159605622292, Test Loss: 0.00868270918726921 \n",
      "Epoch 1751, Loss: 0.012734871357679367, Test Loss: 0.014532177709043026 \n",
      "Epoch 1801, Loss: 0.010536803863942623, Test Loss: 0.007523783482611179 \n",
      "Epoch 1851, Loss: 0.008489907719194889, Test Loss: 0.003682965412735939 \n",
      "Epoch 1901, Loss: 0.010446102358400822, Test Loss: 0.006783212069422007 \n",
      "Epoch 1951, Loss: 0.01244212407618761, Test Loss: 0.009322218596935272 \n",
      "Epoch 2001, Loss: 0.00809920858591795, Test Loss: 0.003957859706133604 \n",
      "Epoch 2051, Loss: 0.007738733198493719, Test Loss: 0.002976024756208062 \n",
      "Epoch 2101, Loss: 0.00859535951167345, Test Loss: 0.0038326880894601345 \n",
      "Epoch 2151, Loss: 0.0070905727334320545, Test Loss: 0.0033332090824842453 \n",
      "Epoch 2201, Loss: 0.008146337233483791, Test Loss: 0.004874756559729576 \n",
      "Epoch 2251, Loss: 0.008782293647527695, Test Loss: 0.005630007945001125 \n",
      "Epoch 2301, Loss: 0.011182968504726887, Test Loss: 0.020055972039699554 \n",
      "Epoch 2351, Loss: 0.012418346479535103, Test Loss: 0.014306043274700642 \n",
      "Epoch 2401, Loss: 0.007097357884049416, Test Loss: 0.003305013058707118 \n",
      "Epoch 2451, Loss: 0.005981858819723129, Test Loss: 0.0035993633791804314 \n",
      "Epoch 2501, Loss: 0.008181086741387844, Test Loss: 0.003469343762844801 \n",
      "Epoch 2551, Loss: 0.007047852501273155, Test Loss: 0.005041884258389473 \n",
      "Epoch 2601, Loss: 0.006270849145948887, Test Loss: 0.004467039369046688 \n",
      "Epoch 2651, Loss: 0.00489276135340333, Test Loss: 0.0034449798986315727 \n",
      "Epoch 2701, Loss: 0.0055835009552538395, Test Loss: 0.005373425781726837 \n",
      "Epoch 2751, Loss: 0.006895504891872406, Test Loss: 0.005392685532569885 \n",
      "Epoch 2801, Loss: 0.0034590207505971193, Test Loss: 0.0016119652427732944 \n",
      "Epoch 2851, Loss: 0.011720450595021248, Test Loss: 0.009225456044077873 \n",
      "Epoch 2901, Loss: 0.0032791332341730595, Test Loss: 0.0014003126416355371 \n",
      "Epoch 2951, Loss: 0.0034937167074531317, Test Loss: 0.0014343084767460823 \n",
      "Epoch 3001, Loss: 0.0035670450888574123, Test Loss: 0.001701334840618074 \n",
      "Epoch 3051, Loss: 0.003568155225366354, Test Loss: 0.002565946662798524 \n",
      "Epoch 3101, Loss: 0.004349587485194206, Test Loss: 0.003960995003581047 \n",
      "Epoch 3151, Loss: 0.005008113104850054, Test Loss: 0.0038080753292888403 \n",
      "Epoch 3201, Loss: 0.006032848265022039, Test Loss: 0.005626646801829338 \n",
      "Epoch 3251, Loss: 0.005583007819950581, Test Loss: 0.0027091745287179947 \n",
      "Epoch 3301, Loss: 0.002837094943970442, Test Loss: 0.0012697110651060939 \n",
      "Epoch 3351, Loss: 0.0031000119633972645, Test Loss: 0.0008985101012513041 \n",
      "Epoch 3401, Loss: 0.007375593297183514, Test Loss: 0.008553923107683659 \n",
      "Epoch 3451, Loss: 0.0032408039551228285, Test Loss: 0.0013678900431841612 \n",
      "Epoch 3501, Loss: 0.0026200569700449705, Test Loss: 0.0022341138683259487 \n",
      "Epoch 3551, Loss: 0.0020233902614563704, Test Loss: 0.001732264063321054 \n",
      "Epoch 3601, Loss: 0.005052946973592043, Test Loss: 0.0034218919463455677 \n",
      "Epoch 3651, Loss: 0.006234285421669483, Test Loss: 0.005862201564013958 \n",
      "Epoch 3701, Loss: 0.0017762748757377267, Test Loss: 0.0013722865842282772 \n",
      "Epoch 3751, Loss: 0.0023270780220627785, Test Loss: 0.0015892308438196778 \n",
      "Epoch 3801, Loss: 0.004316341131925583, Test Loss: 0.0023359651677310467 \n",
      "Epoch 3851, Loss: 0.0015301558887585998, Test Loss: 0.0010341606102883816 \n",
      "Epoch 3901, Loss: 0.0024890254717320204, Test Loss: 0.0018493931274861097 \n",
      "Epoch 3951, Loss: 0.0015933980466797948, Test Loss: 0.0009459690190851688 \n",
      "Epoch 4001, Loss: 0.001189367612823844, Test Loss: 0.0008194264955818653 \n",
      "Epoch 4051, Loss: 0.0015761707909405231, Test Loss: 0.0015899257268756628 \n",
      "Epoch 4101, Loss: 0.0010465243831276894, Test Loss: 0.0010131294839084148 \n",
      "Epoch 4151, Loss: 0.0012791396584361792, Test Loss: 0.0018146157963201404 \n",
      "Epoch 4201, Loss: 0.00419733626767993, Test Loss: 0.007151173893362284 \n",
      "Epoch 4251, Loss: 0.0028587374836206436, Test Loss: 0.0012622654903680086 \n",
      "Epoch 4301, Loss: 0.002216931665316224, Test Loss: 0.0025827637873589993 \n",
      "Epoch 4351, Loss: 0.0022417614236474037, Test Loss: 0.002656875178217888 \n",
      "Epoch 4401, Loss: 0.0009748467709869146, Test Loss: 0.0008809101418592036 \n",
      "Epoch 4451, Loss: 0.0017217651475220919, Test Loss: 0.004865732975304127 \n",
      "Epoch 4501, Loss: 0.020099887624382973, Test Loss: 0.022676194086670876 \n",
      "Epoch 4551, Loss: 0.0009065454360097647, Test Loss: 0.0008829253492876887 \n",
      "Epoch 4601, Loss: 0.0008950827177613974, Test Loss: 0.001122904010117054 \n",
      "Epoch 4651, Loss: 0.0016232032794505358, Test Loss: 0.0024734174367040396 \n",
      "Epoch 4701, Loss: 0.0013531483709812164, Test Loss: 0.0020974541548639536 \n",
      "Epoch 4751, Loss: 0.0011174825485795736, Test Loss: 0.0009808861650526524 \n",
      "Epoch 4801, Loss: 0.0011160601861774921, Test Loss: 0.0010236395755782723 \n",
      "Epoch 4851, Loss: 0.0014567661564797163, Test Loss: 0.001026940532028675 \n",
      "Epoch 4901, Loss: 0.0006415289826691151, Test Loss: 0.0005070815095677972 \n",
      "Epoch 4951, Loss: 0.0005910549079999328, Test Loss: 0.0005099706468172371 \n",
      "Epoch 5001, Loss: 0.0006950475508347154, Test Loss: 0.0007856108713895082 \n",
      "Epoch 5051, Loss: 0.0006095226854085922, Test Loss: 0.0007228055619634688 \n",
      "Epoch 5101, Loss: 0.007067860569804907, Test Loss: 0.007825526408851147 \n",
      "Epoch 5151, Loss: 0.0005607841303572059, Test Loss: 0.0011383822420611978 \n",
      "Epoch 5201, Loss: 0.0007937444024719298, Test Loss: 0.0010193213820457458 \n",
      "Epoch 5251, Loss: 0.0012988621601834893, Test Loss: 0.0030421768315136433 \n",
      "Epoch 5301, Loss: 0.0016169355949386954, Test Loss: 0.003247287357226014 \n",
      "Epoch 5351, Loss: 0.0029369196854531765, Test Loss: 0.007317468523979187 \n",
      "Epoch 5401, Loss: 0.0009429107885807753, Test Loss: 0.0007381036411970854 \n",
      "Epoch 5451, Loss: 0.0003796272212639451, Test Loss: 0.00028890126850456 \n",
      "Epoch 5501, Loss: 0.0003525781794451177, Test Loss: 0.00034061912447214127 \n",
      "Epoch 5551, Loss: 0.0011264722561463714, Test Loss: 0.0011798277264460921 \n",
      "Epoch 5601, Loss: 0.005710175726562738, Test Loss: 0.003872938919812441 \n"
     ]
    },
    {
     "name": "stdout",
     "output_type": "stream",
     "text": [
      "Epoch 5651, Loss: 0.0012593551073223352, Test Loss: 0.0011476288782432675 \n",
      "Epoch 5701, Loss: 0.00723927840590477, Test Loss: 0.0062445481307804585 \n",
      "Epoch 5751, Loss: 0.0005109253688715398, Test Loss: 0.0006022267625667155 \n",
      "Epoch 5801, Loss: 0.0004534039762802422, Test Loss: 0.0006614214507862926 \n",
      "Epoch 5851, Loss: 0.0013131757732480764, Test Loss: 0.004549652338027954 \n",
      "Epoch 5901, Loss: 0.0003853619855362922, Test Loss: 0.00044473184971138835 \n",
      "Epoch 5951, Loss: 0.0011823271634057164, Test Loss: 0.0008455166243948042 \n",
      "Epoch 6001, Loss: 0.00023646664340049028, Test Loss: 0.00022340213763527572 \n",
      "Epoch 6051, Loss: 0.0006858134875074029, Test Loss: 0.00080919882748276 \n",
      "Epoch 6101, Loss: 0.00289714802056551, Test Loss: 0.004112417809665203 \n",
      "Epoch 6151, Loss: 0.0008554725209251046, Test Loss: 0.001061918679624796 \n",
      "Epoch 6201, Loss: 0.0002716794260777533, Test Loss: 0.0002901926345657557 \n",
      "Epoch 6251, Loss: 0.0003148922696709633, Test Loss: 0.0006033394020050764 \n",
      "Epoch 6301, Loss: 0.004555480554699898, Test Loss: 0.007869869470596313 \n",
      "Epoch 6351, Loss: 0.00018528375949244946, Test Loss: 0.0001543450925964862 \n",
      "Epoch 6401, Loss: 0.0001724192698020488, Test Loss: 0.00019193996558897197 \n",
      "Epoch 6451, Loss: 0.0009734523482620716, Test Loss: 0.0013902189675718546 \n",
      "Epoch 6501, Loss: 0.00040274005732499063, Test Loss: 0.0004788029473274946 \n",
      "Epoch 6551, Loss: 0.0018030524952337146, Test Loss: 0.0028394339606165886 \n",
      "Epoch 6601, Loss: 0.000663090730085969, Test Loss: 0.0008289951947517693 \n",
      "Epoch 6651, Loss: 0.008031687699258327, Test Loss: 0.012173740193247795 \n",
      "Epoch 6701, Loss: 0.00020325368677731603, Test Loss: 0.00021091986855026335 \n",
      "Epoch 6751, Loss: 0.00019634659111034125, Test Loss: 0.0007238981779664755 \n",
      "Epoch 6801, Loss: 0.00016266526654362679, Test Loss: 0.0004675156669691205 \n",
      "Epoch 6851, Loss: 0.00045402810792438686, Test Loss: 0.00042766795377247036 \n",
      "Epoch 6901, Loss: 0.0004544782859738916, Test Loss: 0.0006553733255714178 \n",
      "Epoch 6951, Loss: 0.00032156246015802026, Test Loss: 0.00043502176413312554 \n",
      "Epoch 7001, Loss: 0.0011017350479960442, Test Loss: 0.005411969497799873 \n",
      "Epoch 7051, Loss: 0.00018747281865216792, Test Loss: 0.00023818554473109543 \n",
      "Epoch 7101, Loss: 0.002040615538135171, Test Loss: 0.004442823585122824 \n",
      "Epoch 7151, Loss: 0.00018640706548467278, Test Loss: 0.0001571952598169446 \n",
      "Epoch 7201, Loss: 0.00036893796641379595, Test Loss: 0.0006638944614678621 \n",
      "Epoch 7251, Loss: 0.00030339747900143266, Test Loss: 0.0003744639689102769 \n",
      "Epoch 7301, Loss: 0.0013843351043760777, Test Loss: 0.0039325011894106865 \n",
      "Epoch 7351, Loss: 9.038230928126723e-05, Test Loss: 0.00012262635573279113 \n",
      "Epoch 7401, Loss: 0.0003199388738721609, Test Loss: 0.00023387435066979378 \n",
      "Epoch 7451, Loss: 0.0007475265301764011, Test Loss: 0.002096058800816536 \n",
      "Epoch 7501, Loss: 0.0030257359612733126, Test Loss: 0.0021716065239161253 \n",
      "Epoch 7551, Loss: 0.00024907762417569757, Test Loss: 0.0001847718667704612 \n",
      "Epoch 7601, Loss: 0.0005367340636439621, Test Loss: 0.00030336808413267136 \n",
      "Epoch 7651, Loss: 0.00012366095324978232, Test Loss: 0.0001094829203793779 \n",
      "Epoch 7701, Loss: 0.00012075553968315944, Test Loss: 0.00017745640070643276 \n",
      "Epoch 7751, Loss: 0.00020458792278077453, Test Loss: 0.0007341258460655808 \n",
      "Epoch 7801, Loss: 0.0021165513899177313, Test Loss: 0.003935052081942558 \n",
      "Epoch 7851, Loss: 0.00034712557680904865, Test Loss: 0.0004384266212582588 \n",
      "Epoch 7901, Loss: 0.00011976959649473429, Test Loss: 0.00014754655421711504 \n",
      "Epoch 7951, Loss: 9.347392187919468e-05, Test Loss: 7.916969479992986e-05 \n",
      "Epoch 8001, Loss: 0.0002727285900618881, Test Loss: 0.00033209798857569695 \n",
      "Epoch 8051, Loss: 0.0003725201531779021, Test Loss: 0.0008767114486545324 \n",
      "Epoch 8101, Loss: 0.0006816465174779296, Test Loss: 0.002059997757896781 \n",
      "Epoch 8151, Loss: 0.00011722361523425207, Test Loss: 0.00016307301120832562 \n",
      "Epoch 8201, Loss: 0.0001085980111383833, Test Loss: 0.000158708484377712 \n",
      "Epoch 8251, Loss: 0.0023161224089562893, Test Loss: 0.004896358121186495 \n",
      "Epoch 8301, Loss: 0.0005806016270071268, Test Loss: 0.002271929057314992 \n",
      "Epoch 8351, Loss: 0.004242784809321165, Test Loss: 0.005395062733441591 \n",
      "Epoch 8401, Loss: 0.00525235990062356, Test Loss: 0.01084661390632391 \n",
      "Epoch 8451, Loss: 0.0002856554929167032, Test Loss: 0.0009104346390813589 \n",
      "Epoch 8501, Loss: 0.0008433701004832983, Test Loss: 0.0007923839730210602 \n",
      "Epoch 8551, Loss: 9.516625141259283e-05, Test Loss: 0.00013370664964895695 \n",
      "Epoch 8601, Loss: 0.0006143268547020853, Test Loss: 0.0003920284507330507 \n",
      "Epoch 8651, Loss: 0.0006812563515268266, Test Loss: 0.0007607117295265198 \n",
      "Epoch 8701, Loss: 0.0001318991562584415, Test Loss: 0.00011290403199382126 \n",
      "Epoch 8751, Loss: 0.00017520674737170339, Test Loss: 0.00017619456048123538 \n",
      "Epoch 8801, Loss: 0.00036266210372559726, Test Loss: 0.00037303497083485126 \n",
      "Epoch 8851, Loss: 0.00028330704662948847, Test Loss: 0.0002797760535031557 \n",
      "Epoch 8901, Loss: 0.00018036291294265538, Test Loss: 0.00030846273875795305 \n",
      "Epoch 8951, Loss: 0.0007790036615915596, Test Loss: 0.0006347893504425883 \n",
      "Epoch 9001, Loss: 0.002066968474537134, Test Loss: 0.0016704680165275931 \n",
      "Epoch 9051, Loss: 0.001277567120268941, Test Loss: 0.0015965818893164396 \n",
      "Epoch 9101, Loss: 0.0003046196943614632, Test Loss: 0.00022772418742533773 \n",
      "Epoch 9151, Loss: 0.00031987257534638047, Test Loss: 0.00047788117080926895 \n",
      "Epoch 9201, Loss: 0.00010089765419252217, Test Loss: 8.608259668108076e-05 \n",
      "Epoch 9251, Loss: 0.0012326581636443734, Test Loss: 0.0009652420412749052 \n",
      "Epoch 9301, Loss: 0.001441040774807334, Test Loss: 0.0013970705913379788 \n",
      "Epoch 9351, Loss: 0.0009560153121128678, Test Loss: 0.004345495719462633 \n",
      "Epoch 9401, Loss: 0.0014353268779814243, Test Loss: 0.0011502288980409503 \n",
      "Epoch 9451, Loss: 0.0007430789992213249, Test Loss: 0.0024326995480805635 \n",
      "Epoch 9501, Loss: 0.0006489696097560227, Test Loss: 0.0005049182218499482 \n",
      "Epoch 9551, Loss: 0.0003001475124619901, Test Loss: 0.00021008016483392566 \n",
      "Epoch 9601, Loss: 0.000301194580970332, Test Loss: 0.0006853853701613843 \n",
      "Epoch 9651, Loss: 0.00011030789028154686, Test Loss: 8.598292333772406e-05 \n",
      "Epoch 9701, Loss: 0.0001844416547100991, Test Loss: 0.00031716059311293066 \n",
      "Epoch 9751, Loss: 0.00018086408090312034, Test Loss: 0.0001845021324697882 \n",
      "Epoch 9801, Loss: 0.0007429053075611591, Test Loss: 0.0011051364708691835 \n",
      "Epoch 9851, Loss: 0.009033313021063805, Test Loss: 0.02079206332564354 \n",
      "Epoch 9901, Loss: 0.0007419220637530088, Test Loss: 0.0014656779821962118 \n",
      "Epoch 9951, Loss: 0.00040973330033011734, Test Loss: 0.0008448746521025896 \n"
     ]
    }
   ],
   "source": [
    "EPOCHS = 10000\n",
    "\n",
    "#Tensorflow Random Seed\n",
    "tf.random.set_seed(41)\n",
    "\n",
    "for epoch in range(EPOCHS):\n",
    "    # Reset the metrics at the start of the next epoch\n",
    "    train_loss.reset_states()\n",
    "    test_loss.reset_states()\n",
    "\n",
    "    #Choose random collocation points for every epoch\n",
    "    t_coll_ds=tf.random.uniform(shape=[ncoll,1], minval=tmin, maxval=tmax, dtype=tf.dtypes.float32)\n",
    "\n",
    "    for inputs, outputs in train_ds_data:\n",
    "        train_step(t_coll_ds, inputs, outputs)\n",
    "\n",
    "    for test_inputs, test_outputs in test_ds_data:\n",
    "        test_step(t_coll_ds, test_inputs, test_outputs)\n",
    "\n",
    "    #Print Train and Test Loss every 50 Epochs\n",
    "    if epoch % 50 == 0:\n",
    "        print(f'Epoch {epoch + 1}, '\n",
    "                f'Loss: {train_loss.result()}, '\n",
    "                f'Test Loss: {test_loss.result()} ')\n",
    "\n",
    "        \n",
    "    # Callback at the end of epoch\n",
    "    callbacks.on_epoch_end(epoch, logs={'val_loss': test_loss.result()})\n",
    "    \n",
    "    #Shuffle Dataset\n",
    "    train_ds_data.shuffle(10*ndata)"
   ]
  },
  {
   "cell_type": "markdown",
   "id": "e47ce853",
   "metadata": {},
   "source": [
    "# Model Evaluation\n",
    "The PINN is able to match the numerical solution quite well."
   ]
  },
  {
   "cell_type": "code",
   "execution_count": 24,
   "id": "ff90857a",
   "metadata": {},
   "outputs": [
    {
     "name": "stdout",
     "output_type": "stream",
     "text": [
      "32/32 [==============================] - 0s 1ms/step\n"
     ]
    }
   ],
   "source": [
    "#Evaluate the Model\n",
    "t_eval=np.linspace(0,50,1000)\n",
    "u_eval=model.predict(t_eval)"
   ]
  },
  {
   "cell_type": "code",
   "execution_count": 25,
   "id": "05edf22b",
   "metadata": {},
   "outputs": [
    {
     "data": {
      "text/plain": [
       "[]"
      ]
     },
     "execution_count": 25,
     "metadata": {},
     "output_type": "execute_result"
    },
    {
     "data": {
      "image/png": "[encoded data removed]",
      "text/plain": [
       "<Figure size 720x720 with 1 Axes>"
      ]
     },
     "metadata": {
      "needs_background": "light"
     },
     "output_type": "display_data"
    }
   ],
   "source": [
    "#Plot PINN Performance against Numerical Solution and Training Data\n",
    "plt.subplots(figsize=(10, 10))\n",
    "plt.plot(t, sol.y[0], 'r', label='Numerical')\n",
    "plt.plot(t_eval,u_eval, '--k', label='PINN')\n",
    "plt.scatter(t_train, u_train, label='Trg. Data')\n",
    "plt.legend()\n",
    "plt.xlabel('Time, s')\n",
    "plt.ylabel('Amplitdue, ft.')\n",
    "plt.title('Exact Solution, Data and PINN Prediction')\n",
    "plt.plot()"
   ]
  },
  {
   "cell_type": "code",
   "execution_count": null,
   "id": "59a915a3",
   "metadata": {},
   "outputs": [],
   "source": []
  },
  {
   "cell_type": "code",
   "execution_count": null,
   "id": "7daf7e21",
   "metadata": {},
   "outputs": [],
   "source": []
  }
 ],
 "metadata": {
  "kernelspec": {
   "display_name": "Python 3 (ipykernel)",
   "language": "python",
   "name": "python3"
  },
  "language_info": {
   "codemirror_mode": {
    "name": "ipython",
    "version": 3
   },
   "file_extension": ".py",
   "mimetype": "text/x-python",
   "name": "python",
   "nbconvert_exporter": "python",
   "pygments_lexer": "ipython3",
   "version": "3.9.0"
  }
 },
 "nbformat": 4,
 "nbformat_minor": 5
}
